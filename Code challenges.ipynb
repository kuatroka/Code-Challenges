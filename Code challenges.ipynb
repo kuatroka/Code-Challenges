{
 "cells": [
  {
   "cell_type": "markdown",
   "metadata": {},
   "source": [
    "### Kata 1\n",
    "Will you make it?\n",
    "\n",
    "You were camping with your friends far away from home, but when it's time to go back, you realize that you fuel is running out and the nearest pump is 50 miles away! You know that on average, your car runs on about 25 miles per gallon. There are 2 gallons left. Considering these factors, write a function that tells you if it is possible to get to the pump or not. Function should return True if it is possible and False if not."
   ]
  },
  {
   "cell_type": "code",
   "execution_count": 1,
   "metadata": {
    "collapsed": false
   },
   "outputs": [
    {
     "data": {
      "text/plain": [
       "False"
      ]
     },
     "execution_count": 1,
     "metadata": {},
     "output_type": "execute_result"
    }
   ],
   "source": [
    "# my version\n",
    "def zeroFuel(distance_to_pump, mpg, fuel_left):\n",
    "    if distance_to_pump / mpg <= fuel_left:\n",
    "        return True\n",
    "    else:\n",
    "        return False\n",
    "    \n",
    "# zeroFuel(50, 25, 2)    \n",
    "zeroFuel(100, 50, 1)\n",
    "# test.assert_equals(zeroFuel(50, 25, 2), True)\n",
    "# test.assert_equals(zeroFuel(100, 50, 1), False)"
   ]
  },
  {
   "cell_type": "code",
   "execution_count": 2,
   "metadata": {
    "collapsed": false
   },
   "outputs": [
    {
     "data": {
      "text/plain": [
       "True"
      ]
     },
     "execution_count": 2,
     "metadata": {},
     "output_type": "execute_result"
    }
   ],
   "source": [
    "# best solution from codewars\n",
    "def zeroFuel(distance_to_pump, mpg, fuel_left):\n",
    "    return distance_to_pump <= mpg * fuel_left\n",
    "\n",
    "zeroFuel(100, 50, 2)"
   ]
  },
  {
   "cell_type": "markdown",
   "metadata": {},
   "source": [
    "### Kata 2\n",
    "In this kata, you will write a function that receives an array of string and returns a string that is either 'naughty' or 'nice'. Strings that start with the letters b, f, or k are naughty. Strings that start with the letters g, s, or n are nice. Other strings are neither naughty nor nice.\n",
    "\n",
    "If there is an equal amount of bad and good actions, return 'naughty'\n",
    "\n",
    "Examples:\n",
    "\n",
    "bad_actions = ['broke someone\\'s window', 'fought over a toaster', 'killed a bug']\n",
    "whatListAmIOn(bad_actions) #-> 'naughty'\n",
    "\n",
    "good_actions = ['got someone a new car', 'saved a man from drowning', 'never got into a fight']\n",
    "what_list_am_i_on(good_actions) #-> 'nice'\n",
    "\n",
    "actions = ['broke a vending machine', 'never got into a fight', 'tied someone\\'s shoes']\n",
    "what_list_am_i_on(actions) #-> 'naughty'"
   ]
  },
  {
   "cell_type": "code",
   "execution_count": 3,
   "metadata": {
    "collapsed": false
   },
   "outputs": [
    {
     "name": "stdout",
     "output_type": "stream",
     "text": [
      "naughty\n",
      "nice\n",
      "naughty\n"
     ]
    }
   ],
   "source": [
    "# my version\n",
    "def what_list_am_i_on(actions):\n",
    "    count_bad = 0\n",
    "    count_good = 0\n",
    "    \n",
    "    for i in actions:\n",
    "        if i[0] in ('b', 'f', 'k'):\n",
    "            count_bad += 1\n",
    "        if i[0] in ('g', 's', 'r'):\n",
    "            count_good += 1\n",
    "    return 'naughty' if count_bad >= count_good else 'nice'\n",
    "    \n",
    "    \n",
    "            \n",
    "print(what_list_am_i_on(['broke someone\\'s window', 'fought over a toaster', 'killed a bug']))\n",
    "print(what_list_am_i_on(['got someone a new car', 'saved a man from drowning', 'never got into a fight']))\n",
    "print(what_list_am_i_on(['broke a vending machine', 'never got into a fight', 'tied someone\\'s shoes']))\n",
    "    "
   ]
  },
  {
   "cell_type": "code",
   "execution_count": 4,
   "metadata": {
    "collapsed": false
   },
   "outputs": [
    {
     "name": "stdout",
     "output_type": "stream",
     "text": [
      "naughty\n",
      "naughty\n"
     ]
    }
   ],
   "source": [
    "# best practice from codewars\n",
    "def what_list_am_i_on(actions):\n",
    "    nice,naut = 0,0\n",
    "    for item in actions:\n",
    "        if item.startswith(('b','f','k')):\n",
    "            naut += 1\n",
    "        elif item.startswith(('g','s','n')):\n",
    "            nice += 1\n",
    "    return 'nice' if nice > naut else 'naughty'\n",
    "print(what_list_am_i_on(['broke a vending machine', 'never got into a fight', 'tied someone\\'s shoes']))\n",
    "\n",
    "# clever from codewars\n",
    "def whatListAmIOn(a):\n",
    "    return 'nice' if sum(i[0] in 'gsn' for i in a) > sum(i[0] in 'bfk' for i in a) else 'naughty'\n",
    "\n",
    "print(whatListAmIOn(['broke a vending machine', 'never got into a fight', 'tied someone\\'s shoes']))"
   ]
  },
  {
   "cell_type": "markdown",
   "metadata": {},
   "source": [
    "### Kata 3\n",
    "We need a function that can transform a number into a string.\n",
    "What ways of achieving this do you know?"
   ]
  },
  {
   "cell_type": "code",
   "execution_count": 5,
   "metadata": {
    "collapsed": false
   },
   "outputs": [
    {
     "data": {
      "text/plain": [
       "'123'"
      ]
     },
     "execution_count": 5,
     "metadata": {},
     "output_type": "execute_result"
    }
   ],
   "source": [
    "# my solution\n",
    "def number_to_string(num):\n",
    "    return str(num)\n",
    "\n",
    "    \n",
    "number_to_string(123)\n",
    "#/* returns '123' */\n",
    "# number_to_string(999) /* returns '999' */"
   ]
  },
  {
   "cell_type": "code",
   "execution_count": 6,
   "metadata": {
    "collapsed": false
   },
   "outputs": [
    {
     "data": {
      "text/plain": [
       "'123'"
      ]
     },
     "execution_count": 6,
     "metadata": {},
     "output_type": "execute_result"
    }
   ],
   "source": [
    "# clever solution from codewars\n",
    "number_to_string = str\n",
    "\n",
    "number_to_string(123)\n"
   ]
  },
  {
   "cell_type": "markdown",
   "metadata": {},
   "source": [
    "### Kata 4\n",
    "Jenny has written a function that returns a greeting for a user. However, she's in love with Johnny, and would like to greet him slightly different. She added a special case to her function, but she made a mistake.\n",
    "\n",
    "Can you help her?"
   ]
  },
  {
   "cell_type": "code",
   "execution_count": 7,
   "metadata": {
    "collapsed": false
   },
   "outputs": [
    {
     "data": {
      "text/plain": [
       "'Hello, my love!'"
      ]
     },
     "execution_count": 7,
     "metadata": {},
     "output_type": "execute_result"
    }
   ],
   "source": [
    "# my version and I think it's the shortest one\n",
    "def greet(name):\n",
    "    return \"Hello, my love!\"  if name == \"Johnny\" else \"Hello, {name}!\".format(name=name)\n",
    "\n",
    "\n",
    "greet(\"Jane\") # \"Hello, Jane!\")\n",
    "# greet(\"Jim\") # \"Hello, Jim!\")\n",
    "\n",
    "\n",
    "greet(\"Johnny\") # \"Hello, my love!\")"
   ]
  },
  {
   "cell_type": "markdown",
   "metadata": {},
   "source": [
    "### Kata 5\n",
    "Consider an array of sheep where some sheep may be missing from their place. We need a function that counts the number of sheep present in the array (true means present).\n",
    "\n",
    "For example:\n",
    "[True,  True,  True,  False,\n",
    "  True,  True,  True,  True ,\n",
    "  True,  False, True,  False,\n",
    "  True,  False, False, True ,\n",
    "  True,  True,  True,  True ,\n",
    "  False, False, True,  True]\n",
    "The correct answer would be 17.\n",
    "\n",
    "Hint: Don't forget to check for bad values like null/undefined"
   ]
  },
  {
   "cell_type": "code",
   "execution_count": 8,
   "metadata": {
    "collapsed": false
   },
   "outputs": [
    {
     "data": {
      "text/plain": [
       "(17, 17, 'There are 17 sheeps in total, not 17')"
      ]
     },
     "execution_count": 8,
     "metadata": {},
     "output_type": "execute_result"
    }
   ],
   "source": [
    "# my version\n",
    "def count_sheeps(arrayOfSheeps):\n",
    "    return sum([x for x in arrayOfSheeps if x is True])\n",
    "    \n",
    "array1 = [True,  True,  True,  False,\n",
    "          True,  True,  True,  True ,\n",
    "          True,  False, True,  False,\n",
    "          True,  False, False, True ,\n",
    "          True,  True,  True,  True ,\n",
    "          False, False, True,  True ];\n",
    "count_sheeps(array1), 17, \"There are 17 sheeps in total, not %s\" % count_sheeps(array1)"
   ]
  },
  {
   "cell_type": "code",
   "execution_count": 9,
   "metadata": {
    "collapsed": false
   },
   "outputs": [
    {
     "data": {
      "text/plain": [
       "(17, 17, 'There are 17 sheeps in total, not 17')"
      ]
     },
     "execution_count": 9,
     "metadata": {},
     "output_type": "execute_result"
    }
   ],
   "source": [
    "# best practice and clever from codewars\n",
    "def count_sheeps(arrayOfSheeps):\n",
    "    return arrayOfSheeps.count(True)\n",
    "\n",
    "count_sheeps(array1), 17, \"There are 17 sheeps in total, not %s\" % count_sheeps(array1)\n",
    "\n",
    "#--------------------\n",
    "def count_sheeps(sheep):\n",
    "    return len([x for x in sheep if x])\n",
    "\n",
    "count_sheeps(array1), 17, \"There are 17 sheeps in total, not %s\" % count_sheeps(array1)"
   ]
  },
  {
   "cell_type": "markdown",
   "metadata": {
    "collapsed": true
   },
   "source": [
    "### Identify a leap year\n",
    "hackerrank"
   ]
  },
  {
   "cell_type": "code",
   "execution_count": 10,
   "metadata": {
    "collapsed": false
   },
   "outputs": [
    {
     "name": "stdout",
     "output_type": "stream",
     "text": [
      "1990\n",
      "False\n"
     ]
    }
   ],
   "source": [
    "\n",
    "def is_leap(year):\n",
    "    return year % 4 == 0 and (year % 100 == 0 and year % 400 == 0)\n",
    "   \n",
    "year = int(input())\n",
    "print(is_leap(year))"
   ]
  },
  {
   "cell_type": "markdown",
   "metadata": {},
   "source": [
    "### Print range of numbers from the given number\n",
    "hackerrank"
   ]
  },
  {
   "cell_type": "code",
   "execution_count": 11,
   "metadata": {
    "collapsed": false
   },
   "outputs": [
    {
     "name": "stdout",
     "output_type": "stream",
     "text": [
      "2300\n",
      "12345678910111213141516171819202122232425262728293031323334353637383940414243444546474849505152535455565758596061626364656667686970717273747576777879808182838485868788899091929394959697989910010110210310410510610710810911011111211311411511611711811912012112212312412512612712812913013113213313413513613713813914014114214314414514614714814915015115215315415515615715815916016116216316416516616716816917017117217317417517617717817918018118218318418518618718818919019119219319419519619719819920020120220320420520620720820921021121221321421521621721821922022122222322422522622722822923023123223323423523623723823924024124224324424524624724824925025125225325425525625725825926026126226326426526626726826927027127227327427527627727827928028128228328428528628728828929029129229329429529629729829930030130230330430530630730830931031131231331431531631731831932032132232332432532632732832933033133233333433533633733833934034134234334434534634734834935035135235335435535635735835936036136236336436536636736836937037137237337437537637737837938038138238338438538638738838939039139239339439539639739839940040140240340440540640740840941041141241341441541641741841942042142242342442542642742842943043143243343443543643743843944044144244344444544644744844945045145245345445545645745845946046146246346446546646746846947047147247347447547647747847948048148248348448548648748848949049149249349449549649749849950050150250350450550650750850951051151251351451551651751851952052152252352452552652752852953053153253353453553653753853954054154254354454554654754854955055155255355455555655755855956056156256356456556656756856957057157257357457557657757857958058158258358458558658758858959059159259359459559659759859960060160260360460560660760860961061161261361461561661761861962062162262362462562662762862963063163263363463563663763863964064164264364464564664764864965065165265365465565665765865966066166266366466566666766866967067167267367467567667767867968068168268368468568668768868969069169269369469569669769869970070170270370470570670770870971071171271371471571671771871972072172272372472572672772872973073173273373473573673773873974074174274374474574674774874975075175275375475575675775875976076176276376476576676776876977077177277377477577677777877978078178278378478578678778878979079179279379479579679779879980080180280380480580680780880981081181281381481581681781881982082182282382482582682782882983083183283383483583683783883984084184284384484584684784884985085185285385485585685785885986086186286386486586686786886987087187287387487587687787887988088188288388488588688788888989089189289389489589689789889990090190290390490590690790890991091191291391491591691791891992092192292392492592692792892993093193293393493593693793893994094194294394494594694794894995095195295395495595695795895996096196296396496596696796896997097197297397497597697797897998098198298398498598698798898999099199299399499599699799899910001001100210031004100510061007100810091010101110121013101410151016101710181019102010211022102310241025102610271028102910301031103210331034103510361037103810391040104110421043104410451046104710481049105010511052105310541055105610571058105910601061106210631064106510661067106810691070107110721073107410751076107710781079108010811082108310841085108610871088108910901091109210931094109510961097109810991100110111021103110411051106110711081109111011111112111311141115111611171118111911201121112211231124112511261127112811291130113111321133113411351136113711381139114011411142114311441145114611471148114911501151115211531154115511561157115811591160116111621163116411651166116711681169117011711172117311741175117611771178117911801181118211831184118511861187118811891190119111921193119411951196119711981199120012011202120312041205120612071208120912101211121212131214121512161217121812191220122112221223122412251226122712281229123012311232123312341235123612371238123912401241124212431244124512461247124812491250125112521253125412551256125712581259126012611262126312641265126612671268126912701271127212731274127512761277127812791280128112821283128412851286128712881289129012911292129312941295129612971298129913001301130213031304130513061307130813091310131113121313131413151316131713181319132013211322132313241325132613271328132913301331133213331334133513361337133813391340134113421343134413451346134713481349135013511352135313541355135613571358135913601361136213631364136513661367136813691370137113721373137413751376137713781379138013811382138313841385138613871388138913901391139213931394139513961397139813991400140114021403140414051406140714081409141014111412141314141415141614171418141914201421142214231424142514261427142814291430143114321433143414351436143714381439144014411442144314441445144614471448144914501451145214531454145514561457145814591460146114621463146414651466146714681469147014711472147314741475147614771478147914801481148214831484148514861487148814891490149114921493149414951496149714981499150015011502150315041505150615071508150915101511151215131514151515161517151815191520152115221523152415251526152715281529153015311532153315341535153615371538153915401541154215431544154515461547154815491550155115521553155415551556155715581559156015611562156315641565156615671568156915701571157215731574157515761577157815791580158115821583158415851586158715881589159015911592159315941595159615971598159916001601160216031604160516061607160816091610161116121613161416151616161716181619162016211622162316241625162616271628162916301631163216331634163516361637163816391640164116421643164416451646164716481649165016511652165316541655165616571658165916601661166216631664166516661667166816691670167116721673167416751676167716781679168016811682168316841685168616871688168916901691169216931694169516961697169816991700170117021703170417051706170717081709171017111712171317141715171617171718171917201721172217231724172517261727172817291730173117321733173417351736173717381739174017411742174317441745174617471748174917501751175217531754175517561757175817591760176117621763176417651766176717681769177017711772177317741775177617771778177917801781178217831784178517861787178817891790179117921793179417951796179717981799180018011802180318041805180618071808180918101811181218131814181518161817181818191820182118221823182418251826182718281829183018311832183318341835183618371838183918401841184218431844184518461847184818491850185118521853185418551856185718581859186018611862186318641865186618671868186918701871187218731874187518761877187818791880188118821883188418851886188718881889189018911892189318941895189618971898189919001901190219031904190519061907190819091910191119121913191419151916191719181919192019211922192319241925192619271928192919301931193219331934193519361937193819391940194119421943194419451946194719481949195019511952195319541955195619571958195919601961196219631964196519661967196819691970197119721973197419751976197719781979198019811982198319841985198619871988198919901991199219931994199519961997199819992000200120022003200420052006200720082009201020112012201320142015201620172018201920202021202220232024202520262027202820292030203120322033203420352036203720382039204020412042204320442045204620472048204920502051205220532054205520562057205820592060206120622063206420652066206720682069207020712072207320742075207620772078207920802081208220832084208520862087208820892090209120922093209420952096209720982099210021012102210321042105210621072108210921102111211221132114211521162117211821192120212121222123212421252126212721282129213021312132213321342135213621372138213921402141214221432144214521462147214821492150215121522153215421552156215721582159216021612162216321642165216621672168216921702171217221732174217521762177217821792180218121822183218421852186218721882189219021912192219321942195219621972198219922002201220222032204220522062207220822092210221122122213221422152216221722182219222022212222222322242225222622272228222922302231223222332234223522362237223822392240224122422243224422452246224722482249225022512252225322542255225622572258225922602261226222632264226522662267226822692270227122722273227422752276227722782279228022812282228322842285228622872288228922902291229222932294229522962297229822992300"
     ]
    }
   ],
   "source": [
    "n = int(input())\n",
    "for i in range(1,n+1):\n",
    "    print(i, end=\"\")"
   ]
  },
  {
   "cell_type": "markdown",
   "metadata": {},
   "source": [
    "### numpy exercise\n",
    "hackerrank"
   ]
  },
  {
   "cell_type": "code",
   "execution_count": 12,
   "metadata": {
    "collapsed": false
   },
   "outputs": [
    {
     "name": "stdout",
     "output_type": "stream",
     "text": [
      "[[1 2]\n",
      " [3 4]]\n",
      "[4 6]\n",
      "[3 7]\n",
      "10\n",
      "10\n"
     ]
    }
   ],
   "source": [
    "import numpy\n",
    "my_array = numpy.array([ [1, 2], [3, 4] ])\n",
    "print(my_array)\n",
    "\n",
    "print( numpy.sum(my_array, axis = 0) )        #Output : [4 6]\n",
    "print( numpy.sum(my_array, axis = 1)  )       #Output : [3 7]\n",
    "print( numpy.sum(my_array, axis = None))      #Output : 10\n",
    "print( numpy.sum(my_array)              )     #Output : 10"
   ]
  },
  {
   "cell_type": "code",
   "execution_count": 13,
   "metadata": {
    "collapsed": false
   },
   "outputs": [
    {
     "name": "stdout",
     "output_type": "stream",
     "text": [
      "1 1\n",
      "22\n",
      "22\n",
      "['345fgty7', 're', 'gt', '67', '98']\n"
     ]
    }
   ],
   "source": [
    "import numpy as np\n",
    "print(np.prod(np.sum(np.array([input().split() for _ in range(int(input().split()[0])) ],int),axis=0)))\n",
    "print('345fgty7 re gt 67 98'.split())"
   ]
  },
  {
   "cell_type": "markdown",
   "metadata": {},
   "source": [
    "### Lists \n",
    "hackerrank\n",
    "\n",
    "Consider a list (list = []). You can perform the following commands:\n",
    "\n",
    "insert i e: Insert integer  at position .\n",
    "print: Print the list.\n",
    "remove e: Delete the first occurrence of integer .\n",
    "append e: Insert integer  at the end of the list.\n",
    "sort: Sort the list.\n",
    "pop: Pop the last element from the list.\n",
    "reverse: Reverse the list.\n",
    "\n",
    "Initialize your list and read in the value of n followed by n lines of commands where each command will be of the 7 types listed above. Iterate through each command in order and perform the corresponding operation on your list.\n",
    "\n",
    "Input Format\n",
    "\n",
    "The first line contains an integer, , denoting the number of commands. \n",
    "Each line  of the  subsequent lines contains one of the commands described above.\n",
    "\n",
    "Constraints\n",
    "\n",
    "The elements added to the list must be integers.\n",
    "Output Format\n",
    "\n",
    "For each command of type print, print the list on a new line.\n",
    "\n",
    "Sample Input\n",
    "\n",
    "12\n",
    "\n",
    "insert 0 5\n",
    "\n",
    "insert 1 10\n",
    "\n",
    "insert 0 6\n",
    "\n",
    "print \n",
    "\n",
    "remove 6\n",
    "\n",
    "append 9\n",
    "\n",
    "append 1\n",
    "\n",
    "sort \n",
    "\n",
    "print\n",
    "\n",
    "pop\n",
    "\n",
    "reverse\n",
    "\n",
    "print\n",
    "\n",
    "Sample Output\n",
    "\n",
    "[6, 5, 10]\n",
    "\n",
    "[1, 5, 9, 10]\n",
    "\n",
    "[9, 5, 1]"
   ]
  },
  {
   "cell_type": "code",
   "execution_count": 26,
   "metadata": {
    "collapsed": false
   },
   "outputs": [
    {
     "name": "stdout",
     "output_type": "stream",
     "text": [
      "3\n",
      "insert 0 34\n",
      "insert 2 23\n",
      "print\n",
      "[34, 23]\n"
     ]
    }
   ],
   "source": [
    "if __name__ == '__main__':\n",
    "    N = int(input())\n",
    "    lst = []\n",
    "    for i in range(N):\n",
    "        inp = input()\n",
    "        command = inp.split()[0]\n",
    "        if command == 'print':\n",
    "            print(lst)\n",
    "        elif command  == 'sort':\n",
    "            lst.sort()\n",
    "        elif command == 'pop':\n",
    "            lst.pop()\n",
    "        elif command == 'reverse':\n",
    "            lst.reverse()\n",
    "        if command == 'insert':\n",
    "            command_par1 = int(inp.split()[1])\n",
    "            command_par2 = int(inp.split()[2])\n",
    "            lst.insert(command_par1, command_par2)\n",
    "        elif command == 'remove':\n",
    "            command_par1 = int(inp.split()[1])\n",
    "            lst.remove(command_par1)\n",
    "        elif command == 'append':\n",
    "            command_par1 = int(inp.split()[1])\n",
    "            lst.append(command_par1)"
   ]
  },
  {
   "cell_type": "markdown",
   "metadata": {},
   "source": [
    "### Tuples - hackerrank\n",
    "Given an integer,n , and n space-separated integers as input, create a tuple,t , of those  integers. Then compute and print the result of hash().\n",
    "\n",
    "Note: hash() is one of the functions in the __builtins__ module, so it need not be imported."
   ]
  },
  {
   "cell_type": "code",
   "execution_count": 40,
   "metadata": {
    "collapsed": false
   },
   "outputs": [
    {
     "name": "stdout",
     "output_type": "stream",
     "text": [
      "3\n",
      "3 4 1\n",
      "5050912105989642389\n"
     ]
    }
   ],
   "source": [
    "n = int(input())\n",
    "integer_list = map(int, input().split())\n",
    "t = tuple(integer_list)\n",
    "print(hash(t))"
   ]
  },
  {
   "cell_type": "markdown",
   "metadata": {},
   "source": [
    "### List comprehensions - hackerrank\n",
    "Let's learn about list comprehensions! You are given three integers  and  representing the dimensions of a cuboid along with an integer . You have to print a list of all possible coordinates given by  on a 3D grid where the sum of  is not equal to . Here, \n",
    "\n",
    "Input Format\n",
    "\n",
    "Four integers  and  each on four separate lines, respectively.\n",
    "\n",
    "Constraints\n",
    "\n",
    "Print the list in lexicographic increasing order.\n",
    "\n",
    "Sample Input\n",
    "\n",
    "1\n",
    "1\n",
    "1\n",
    "2\n",
    "\n",
    "Sample Output\n",
    "\n",
    "[[0, 0, 0], [0, 0, 1], [0, 1, 0], [1, 0, 0], [1, 1, 1]] "
   ]
  },
  {
   "cell_type": "markdown",
   "metadata": {},
   "source": [
    "### Concept\n",
    "\n",
    "You have already used lists in previous hacks. List comprehensions are an elegant way to build a list without having to use different for loops to append values one by one. These examples might help.\n",
    "\n",
    "The simplest form of a list comprehension is: \n",
    "\n",
    "[ expression-involving-loop-variable for loop-variable in sequence ] \n",
    "\n",
    "This will step over every element in a sequence, successively setting the loop-variable equal to every element one at a time. It will then build up a list by evaluating the expression-involving-loop-variable for each one. This eliminates the need to use lambda forms and generally produces a much more readable code than using map() and a more compact code than using a for loop.\n",
    "\n",
    "> ListOfNumbers = [ x for x in range(10) ] # List of integers from 0 to 9\n",
    "> ListOfNumbers\n",
    "\n",
    ">[0, 1, 2, 3, 4, 5, 6, 7, 8, 9]\n",
    "\n",
    "List comprehensions can be nested where they take the following form: \n",
    "\n",
    ">[ expression-involving-loop-variables for outer-loop-variable in outer-sequence for inner-loop-variable in inner-sequence ] \n",
    "\n",
    "This is equivalent to writing: \n",
    "\n",
    ">results = []\n",
    "\n",
    ">for outer_loop_variable in outer_sequence:\n",
    ">    for inner_loop_variable in inner_sequence:\n",
    ">        results.append( expression_involving_loop_variables )\n",
    "\n",
    "The final form of list comprehension involves creating a list and filtering it similar to using the filter() method. The filtering form of list comprehension takes the following form: \n",
    "\n",
    ">[ expression-involving-loop-variable for loop-variable in sequence if boolean-expression-involving-loop-variable ] \n",
    "\n",
    "This form is similar to the simple form of list comprehension, but it evaluates boolean-expression-involving-loop-variable for every item. It also only keeps those members for which the boolean expression is True.\n",
    "\n",
    "> ListOfThreeMultiples = [x for x in range(10) if x % 3 == 0] # Multiples of 3 below 10\n",
    "> ListOfThreeMultiples\n",
    "\n",
    ">[0, 3, 6, 9]"
   ]
  },
  {
   "cell_type": "code",
   "execution_count": 63,
   "metadata": {
    "collapsed": false
   },
   "outputs": [
    {
     "name": "stdout",
     "output_type": "stream",
     "text": [
      "1\n",
      "1\n",
      "1\n",
      "2\n",
      "[None, None, None, None, None]\n",
      "[[0, 0, 0], [0, 0, 1], [0, 1, 0], [1, 0, 0], [1, 1, 1]]\n"
     ]
    }
   ],
   "source": [
    "# compact list comprehensions for multiple layers of loops\n",
    "x = int(input())\n",
    "y = int(input())\n",
    "z = int(input())\n",
    "n = int(input())\n",
    "\n",
    "results = []\n",
    "# for i in range(x+1):\n",
    "#     for j in range (y+1):\n",
    "#         [results.append([i, j, k]) for k in range(z+1) if i+j+k != n]\n",
    "# print(results)\n",
    "\n",
    "# # the same as below\n",
    "\n",
    "[results.append([i,j,k]) for i in range(0,x+1) for j in range(0,y+1) for k in range(0,z+1) if i+j+k != n]\n",
    "print(results)\n"
   ]
  },
  {
   "cell_type": "code",
   "execution_count": 65,
   "metadata": {
    "collapsed": false
   },
   "outputs": [
    {
     "name": "stdout",
     "output_type": "stream",
     "text": [
      " Volume in drive C has no label.\n",
      " Volume Serial Number is C82D-E47C\n",
      "\n",
      " Directory of C:\\Users\\yo\\Documents\\Dev\\code_challenges\n",
      "\n",
      "03/03/2017  19:40    <DIR>          .\n",
      "03/03/2017  19:40    <DIR>          ..\n",
      "01/03/2017  13:50    <DIR>          .ipynb_checkpoints\n",
      "03/03/2017  19:40            28,889 Code challenges.ipynb\n",
      "               1 File(s)         28,889 bytes\n",
      "               3 Dir(s)  242,542,202,880 bytes free\n"
     ]
    }
   ],
   "source": [
    "ls"
   ]
  },
  {
   "cell_type": "code",
   "execution_count": null,
   "metadata": {
    "collapsed": true
   },
   "outputs": [],
   "source": []
  },
  {
   "cell_type": "code",
   "execution_count": null,
   "metadata": {
    "collapsed": true
   },
   "outputs": [],
   "source": []
  },
  {
   "cell_type": "code",
   "execution_count": null,
   "metadata": {
    "collapsed": true
   },
   "outputs": [],
   "source": []
  }
 ],
 "metadata": {
  "kernelspec": {
   "display_name": "Python [default]",
   "language": "python",
   "name": "python3"
  },
  "language_info": {
   "codemirror_mode": {
    "name": "ipython",
    "version": 3
   },
   "file_extension": ".py",
   "mimetype": "text/x-python",
   "name": "python",
   "nbconvert_exporter": "python",
   "pygments_lexer": "ipython3",
   "version": "3.4.5"
  }
 },
 "nbformat": 4,
 "nbformat_minor": 2
}
