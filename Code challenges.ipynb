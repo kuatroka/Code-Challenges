{
 "cells": [
  {
   "cell_type": "markdown",
   "metadata": {},
   "source": [
    "### Kata 1\n",
    "Will you make it?\n",
    "\n",
    "You were camping with your friends far away from home, but when it's time to go back, you realize that you fuel is running out and the nearest pump is 50 miles away! You know that on average, your car runs on about 25 miles per gallon. There are 2 gallons left. Considering these factors, write a function that tells you if it is possible to get to the pump or not. Function should return True if it is possible and False if not."
   ]
  },
  {
   "cell_type": "code",
   "execution_count": 11,
   "metadata": {
    "collapsed": false
   },
   "outputs": [
    {
     "data": {
      "text/plain": [
       "False"
      ]
     },
     "execution_count": 11,
     "metadata": {},
     "output_type": "execute_result"
    }
   ],
   "source": [
    "# my version\n",
    "def zeroFuel(distance_to_pump, mpg, fuel_left):\n",
    "    if distance_to_pump / mpg <= fuel_left:\n",
    "        return True\n",
    "    else:\n",
    "        return False\n",
    "    \n",
    "# zeroFuel(50, 25, 2)    \n",
    "zeroFuel(100, 50, 1)\n",
    "# test.assert_equals(zeroFuel(50, 25, 2), True)\n",
    "# test.assert_equals(zeroFuel(100, 50, 1), False)"
   ]
  },
  {
   "cell_type": "code",
   "execution_count": 18,
   "metadata": {
    "collapsed": false
   },
   "outputs": [
    {
     "data": {
      "text/plain": [
       "True"
      ]
     },
     "execution_count": 18,
     "metadata": {},
     "output_type": "execute_result"
    }
   ],
   "source": [
    "# best solution from codewars\n",
    "def zeroFuel(distance_to_pump, mpg, fuel_left):\n",
    "    return distance_to_pump <= mpg * fuel_left\n",
    "\n",
    "zeroFuel(100, 50, 2)"
   ]
  },
  {
   "cell_type": "markdown",
   "metadata": {},
   "source": [
    "### Kata 2\n",
    "In this kata, you will write a function that receives an array of string and returns a string that is either 'naughty' or 'nice'. Strings that start with the letters b, f, or k are naughty. Strings that start with the letters g, s, or n are nice. Other strings are neither naughty nor nice.\n",
    "\n",
    "If there is an equal amount of bad and good actions, return 'naughty'\n",
    "\n",
    "Examples:\n",
    "\n",
    "bad_actions = ['broke someone\\'s window', 'fought over a toaster', 'killed a bug']\n",
    "whatListAmIOn(bad_actions) #-> 'naughty'\n",
    "\n",
    "good_actions = ['got someone a new car', 'saved a man from drowning', 'never got into a fight']\n",
    "what_list_am_i_on(good_actions) #-> 'nice'\n",
    "\n",
    "actions = ['broke a vending machine', 'never got into a fight', 'tied someone\\'s shoes']\n",
    "what_list_am_i_on(actions) #-> 'naughty'"
   ]
  },
  {
   "cell_type": "code",
   "execution_count": 50,
   "metadata": {
    "collapsed": false
   },
   "outputs": [
    {
     "name": "stdout",
     "output_type": "stream",
     "text": [
      "naughty\n",
      "nice\n",
      "naughty\n"
     ]
    }
   ],
   "source": [
    "# my version\n",
    "def what_list_am_i_on(actions):\n",
    "    count_bad = 0\n",
    "    count_good = 0\n",
    "    \n",
    "    for i in actions:\n",
    "        if i[0] in ('b', 'f', 'k'):\n",
    "            count_bad += 1\n",
    "#             print('bad', count_bad)\n",
    "        if i[0] in ('g', 's', 'r'):\n",
    "            count_good += 1\n",
    "#             print('good', count_good)\n",
    "    return 'naughty' if count_bad >= count_good else 'nice'\n",
    "    \n",
    "    \n",
    "            \n",
    "print(what_list_am_i_on(['broke someone\\'s window', 'fought over a toaster', 'killed a bug']))\n",
    "print(what_list_am_i_on(['got someone a new car', 'saved a man from drowning', 'never got into a fight']))\n",
    "print(what_list_am_i_on(['broke a vending machine', 'never got into a fight', 'tied someone\\'s shoes']))\n",
    "    "
   ]
  },
  {
   "cell_type": "code",
   "execution_count": 53,
   "metadata": {
    "collapsed": false
   },
   "outputs": [
    {
     "name": "stdout",
     "output_type": "stream",
     "text": [
      "naughty\n",
      "naughty\n"
     ]
    }
   ],
   "source": [
    "# best practice\n",
    "def what_list_am_i_on(actions):\n",
    "    nice,naut = 0,0\n",
    "    for item in actions:\n",
    "        if item.startswith(('b','f','k')):\n",
    "            naut += 1\n",
    "        elif item.startswith(('g','s','n')):\n",
    "            nice += 1\n",
    "    return 'nice' if nice > naut else 'naughty'\n",
    "print(what_list_am_i_on(['broke a vending machine', 'never got into a fight', 'tied someone\\'s shoes']))\n",
    "\n",
    "\n",
    "\n",
    "# clever\n",
    "def whatListAmIOn(a):\n",
    "    return 'nice' if sum(i[0] in 'gsn' for i in a) > sum(i[0] in 'bfk' for i in a) else 'naughty'\n",
    "\n",
    "print(whatListAmIOn(['broke a vending machine', 'never got into a fight', 'tied someone\\'s shoes']))"
   ]
  }
 ],
 "metadata": {
  "kernelspec": {
   "display_name": "Python [default]",
   "language": "python",
   "name": "python3"
  },
  "language_info": {
   "codemirror_mode": {
    "name": "ipython",
    "version": 3
   },
   "file_extension": ".py",
   "mimetype": "text/x-python",
   "name": "python",
   "nbconvert_exporter": "python",
   "pygments_lexer": "ipython3",
   "version": "3.4.5"
  }
 },
 "nbformat": 4,
 "nbformat_minor": 2
}
