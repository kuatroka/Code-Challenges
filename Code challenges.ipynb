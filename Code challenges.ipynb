{
 "cells": [
  {
   "cell_type": "markdown",
   "metadata": {
    "deletable": true,
    "editable": true
   },
   "source": [
    "### Kata 1\n",
    "Will you make it?\n",
    "\n",
    "You were camping with your friends far away from home, but when it's time to go back, you realize that you fuel is running out and the nearest pump is 50 miles away! You know that on average, your car runs on about 25 miles per gallon. There are 2 gallons left. Considering these factors, write a function that tells you if it is possible to get to the pump or not. Function should return True if it is possible and False if not."
   ]
  },
  {
   "cell_type": "code",
   "execution_count": 1,
   "metadata": {
    "collapsed": false,
    "deletable": true,
    "editable": true
   },
   "outputs": [
    {
     "data": {
      "text/plain": [
       "False"
      ]
     },
     "execution_count": 1,
     "metadata": {},
     "output_type": "execute_result"
    }
   ],
   "source": [
    "# my version\n",
    "def zeroFuel(distance_to_pump, mpg, fuel_left):\n",
    "    if distance_to_pump / mpg <= fuel_left:\n",
    "        return True\n",
    "    else:\n",
    "        return False\n",
    "    \n",
    "# zeroFuel(50, 25, 2)    \n",
    "zeroFuel(100, 50, 1)\n",
    "# test.assert_equals(zeroFuel(50, 25, 2), True)\n",
    "# test.assert_equals(zeroFuel(100, 50, 1), False)"
   ]
  },
  {
   "cell_type": "code",
   "execution_count": 2,
   "metadata": {
    "collapsed": false,
    "deletable": true,
    "editable": true
   },
   "outputs": [
    {
     "data": {
      "text/plain": [
       "True"
      ]
     },
     "execution_count": 2,
     "metadata": {},
     "output_type": "execute_result"
    }
   ],
   "source": [
    "# best solution from codewars\n",
    "def zeroFuel(distance_to_pump, mpg, fuel_left):\n",
    "    return distance_to_pump <= mpg * fuel_left\n",
    "\n",
    "zeroFuel(100, 50, 2)"
   ]
  },
  {
   "cell_type": "markdown",
   "metadata": {
    "deletable": true,
    "editable": true
   },
   "source": [
    "### Kata 2\n",
    "In this kata, you will write a function that receives an array of string and returns a string that is either 'naughty' or 'nice'. Strings that start with the letters b, f, or k are naughty. Strings that start with the letters g, s, or n are nice. Other strings are neither naughty nor nice.\n",
    "\n",
    "If there is an equal amount of bad and good actions, return 'naughty'\n",
    "\n",
    "Examples:\n",
    "\n",
    "bad_actions = ['broke someone\\'s window', 'fought over a toaster', 'killed a bug']\n",
    "whatListAmIOn(bad_actions) #-> 'naughty'\n",
    "\n",
    "good_actions = ['got someone a new car', 'saved a man from drowning', 'never got into a fight']\n",
    "what_list_am_i_on(good_actions) #-> 'nice'\n",
    "\n",
    "actions = ['broke a vending machine', 'never got into a fight', 'tied someone\\'s shoes']\n",
    "what_list_am_i_on(actions) #-> 'naughty'"
   ]
  },
  {
   "cell_type": "code",
   "execution_count": 3,
   "metadata": {
    "collapsed": false,
    "deletable": true,
    "editable": true
   },
   "outputs": [
    {
     "name": "stdout",
     "output_type": "stream",
     "text": [
      "naughty\n",
      "nice\n",
      "naughty\n"
     ]
    }
   ],
   "source": [
    "# my version\n",
    "def what_list_am_i_on(actions):\n",
    "    count_bad = 0\n",
    "    count_good = 0\n",
    "    \n",
    "    for i in actions:\n",
    "        if i[0] in ('b', 'f', 'k'):\n",
    "            count_bad += 1\n",
    "        if i[0] in ('g', 's', 'r'):\n",
    "            count_good += 1\n",
    "    return 'naughty' if count_bad >= count_good else 'nice'\n",
    "    \n",
    "    \n",
    "            \n",
    "print(what_list_am_i_on(['broke someone\\'s window', 'fought over a toaster', 'killed a bug']))\n",
    "print(what_list_am_i_on(['got someone a new car', 'saved a man from drowning', 'never got into a fight']))\n",
    "print(what_list_am_i_on(['broke a vending machine', 'never got into a fight', 'tied someone\\'s shoes']))\n",
    "    "
   ]
  },
  {
   "cell_type": "code",
   "execution_count": null,
   "metadata": {
    "collapsed": false,
    "deletable": true,
    "editable": true
   },
   "outputs": [],
   "source": [
    "# best practice from codewars\n",
    "def what_list_am_i_on(actions):\n",
    "    nice,naut = 0,0\n",
    "    for item in actions:\n",
    "        if item.startswith(('b','f','k')):\n",
    "            naut += 1\n",
    "        elif item.startswith(('g','s','n')):\n",
    "            nice += 1\n",
    "    return 'nice' if nice > naut else 'naughty'\n",
    "print(what_list_am_i_on(['broke a vending machine', 'never got into a fight', 'tied someone\\'s shoes']))\n",
    "\n",
    "# clever from codewars\n",
    "def whatListAmIOn(a):\n",
    "    return 'nice' if sum(i[0] in 'gsn' for i in a) > sum(i[0] in 'bfk' for i in a) else 'naughty'\n",
    "\n",
    "print(whatListAmIOn(['broke a vending machine', 'never got into a fight', 'tied someone\\'s shoes']))"
   ]
  },
  {
   "cell_type": "markdown",
   "metadata": {
    "deletable": true,
    "editable": true
   },
   "source": [
    "### Kata 3\n",
    "We need a function that can transform a number into a string.\n",
    "What ways of achieving this do you know?"
   ]
  },
  {
   "cell_type": "code",
   "execution_count": null,
   "metadata": {
    "collapsed": false,
    "deletable": true,
    "editable": true
   },
   "outputs": [],
   "source": [
    "# my solution\n",
    "def number_to_string(num):\n",
    "    return str(num)\n",
    "\n",
    "    \n",
    "number_to_string(123)\n",
    "#/* returns '123' */\n",
    "# number_to_string(999) /* returns '999' */"
   ]
  },
  {
   "cell_type": "code",
   "execution_count": null,
   "metadata": {
    "collapsed": false,
    "deletable": true,
    "editable": true
   },
   "outputs": [],
   "source": [
    "# clever solution from codewars\n",
    "number_to_string = str\n",
    "\n",
    "number_to_string(123)\n"
   ]
  },
  {
   "cell_type": "markdown",
   "metadata": {
    "deletable": true,
    "editable": true
   },
   "source": [
    "### Kata 4\n",
    "Jenny has written a function that returns a greeting for a user. However, she's in love with Johnny, and would like to greet him slightly different. She added a special case to her function, but she made a mistake.\n",
    "\n",
    "Can you help her?"
   ]
  },
  {
   "cell_type": "code",
   "execution_count": null,
   "metadata": {
    "collapsed": false,
    "deletable": true,
    "editable": true
   },
   "outputs": [],
   "source": [
    "# my version and I think it's the shortest one\n",
    "def greet(name):\n",
    "    return \"Hello, my love!\"  if name == \"Johnny\" else \"Hello, {name}!\".format(name=name)\n",
    "\n",
    "\n",
    "greet(\"Jane\") # \"Hello, Jane!\")\n",
    "# greet(\"Jim\") # \"Hello, Jim!\")\n",
    "\n",
    "\n",
    "greet(\"Johnny\") # \"Hello, my love!\")"
   ]
  },
  {
   "cell_type": "markdown",
   "metadata": {
    "deletable": true,
    "editable": true
   },
   "source": [
    "### Kata 5\n",
    "Consider an array of sheep where some sheep may be missing from their place. We need a function that counts the number of sheep present in the array (true means present).\n",
    "\n",
    "For example:\n",
    "[True,  True,  True,  False,\n",
    "  True,  True,  True,  True ,\n",
    "  True,  False, True,  False,\n",
    "  True,  False, False, True ,\n",
    "  True,  True,  True,  True ,\n",
    "  False, False, True,  True]\n",
    "The correct answer would be 17.\n",
    "\n",
    "Hint: Don't forget to check for bad values like null/undefined"
   ]
  },
  {
   "cell_type": "code",
   "execution_count": null,
   "metadata": {
    "collapsed": false,
    "deletable": true,
    "editable": true
   },
   "outputs": [],
   "source": [
    "# my version\n",
    "def count_sheeps(arrayOfSheeps):\n",
    "    return sum([x for x in arrayOfSheeps if x is True])\n",
    "    \n",
    "array1 = [True,  True,  True,  False,\n",
    "          True,  True,  True,  True ,\n",
    "          True,  False, True,  False,\n",
    "          True,  False, False, True ,\n",
    "          True,  True,  True,  True ,\n",
    "          False, False, True,  True ];\n",
    "count_sheeps(array1), 17, \"There are 17 sheeps in total, not %s\" % count_sheeps(array1)"
   ]
  },
  {
   "cell_type": "code",
   "execution_count": null,
   "metadata": {
    "collapsed": false,
    "deletable": true,
    "editable": true
   },
   "outputs": [],
   "source": [
    "# best practice and clever from codewars\n",
    "def count_sheeps(arrayOfSheeps):\n",
    "    return arrayOfSheeps.count(True)\n",
    "\n",
    "count_sheeps(array1), 17, \"There are 17 sheeps in total, not %s\" % count_sheeps(array1)\n",
    "\n",
    "#--------------------\n",
    "def count_sheeps(sheep):\n",
    "    return len([x for x in sheep if x])\n",
    "\n",
    "count_sheeps(array1), 17, \"There are 17 sheeps in total, not %s\" % count_sheeps(array1)"
   ]
  },
  {
   "cell_type": "markdown",
   "metadata": {
    "collapsed": true,
    "deletable": true,
    "editable": true
   },
   "source": [
    "### Identify a leap year\n",
    "hackerrank"
   ]
  },
  {
   "cell_type": "code",
   "execution_count": null,
   "metadata": {
    "collapsed": false,
    "deletable": true,
    "editable": true
   },
   "outputs": [],
   "source": [
    "\n",
    "def is_leap(year):\n",
    "    return year % 4 == 0 and (year % 100 == 0 and year % 400 == 0)\n",
    "   \n",
    "year = int(input())\n",
    "print(is_leap(year))"
   ]
  },
  {
   "cell_type": "markdown",
   "metadata": {
    "deletable": true,
    "editable": true
   },
   "source": [
    "### Print range of numbers from the given number\n",
    "hackerrank"
   ]
  },
  {
   "cell_type": "code",
   "execution_count": null,
   "metadata": {
    "collapsed": false,
    "deletable": true,
    "editable": true
   },
   "outputs": [],
   "source": [
    "n = int(input())\n",
    "for i in range(1,n+1):\n",
    "    print(i, end=\"\")"
   ]
  },
  {
   "cell_type": "markdown",
   "metadata": {
    "deletable": true,
    "editable": true
   },
   "source": [
    "### numpy exercise\n",
    "hackerrank"
   ]
  },
  {
   "cell_type": "code",
   "execution_count": null,
   "metadata": {
    "collapsed": false,
    "deletable": true,
    "editable": true
   },
   "outputs": [],
   "source": [
    "import numpy\n",
    "my_array = numpy.array([ [1, 2], [3, 4] ])\n",
    "print(my_array)\n",
    "\n",
    "print( numpy.sum(my_array, axis = 0) )        #Output : [4 6]\n",
    "print( numpy.sum(my_array, axis = 1)  )       #Output : [3 7]\n",
    "print( numpy.sum(my_array, axis = None))      #Output : 10\n",
    "print( numpy.sum(my_array)              )     #Output : 10"
   ]
  },
  {
   "cell_type": "code",
   "execution_count": null,
   "metadata": {
    "collapsed": false,
    "deletable": true,
    "editable": true
   },
   "outputs": [],
   "source": [
    "import numpy as np\n",
    "print(np.prod(np.sum(np.array([input().split() for _ in range(int(input().split()[0])) ],int),axis=0)))\n",
    "print('345fgty7 re gt 67 98'.split())"
   ]
  },
  {
   "cell_type": "markdown",
   "metadata": {
    "deletable": true,
    "editable": true
   },
   "source": [
    "### Lists \n",
    "hackerrank\n",
    "\n",
    "Consider a list (list = []). You can perform the following commands:\n",
    "\n",
    "insert i e: Insert integer  at position .\n",
    "print: Print the list.\n",
    "remove e: Delete the first occurrence of integer .\n",
    "append e: Insert integer  at the end of the list.\n",
    "sort: Sort the list.\n",
    "pop: Pop the last element from the list.\n",
    "reverse: Reverse the list.\n",
    "\n",
    "Initialize your list and read in the value of n followed by n lines of commands where each command will be of the 7 types listed above. Iterate through each command in order and perform the corresponding operation on your list.\n",
    "\n",
    "Input Format\n",
    "\n",
    "The first line contains an integer, , denoting the number of commands. \n",
    "Each line  of the  subsequent lines contains one of the commands described above.\n",
    "\n",
    "Constraints\n",
    "\n",
    "The elements added to the list must be integers.\n",
    "Output Format\n",
    "\n",
    "For each command of type print, print the list on a new line.\n",
    "\n",
    "Sample Input\n",
    "\n",
    "12\n",
    "\n",
    "insert 0 5\n",
    "\n",
    "insert 1 10\n",
    "\n",
    "insert 0 6\n",
    "\n",
    "print \n",
    "\n",
    "remove 6\n",
    "\n",
    "append 9\n",
    "\n",
    "append 1\n",
    "\n",
    "sort \n",
    "\n",
    "print\n",
    "\n",
    "pop\n",
    "\n",
    "reverse\n",
    "\n",
    "print\n",
    "\n",
    "Sample Output\n",
    "\n",
    "[6, 5, 10]\n",
    "\n",
    "[1, 5, 9, 10]\n",
    "\n",
    "[9, 5, 1]"
   ]
  },
  {
   "cell_type": "code",
   "execution_count": null,
   "metadata": {
    "collapsed": false,
    "deletable": true,
    "editable": true
   },
   "outputs": [],
   "source": [
    "if __name__ == '__main__':\n",
    "    N = int(input())\n",
    "    lst = []\n",
    "    for i in range(N):\n",
    "        inp = input()\n",
    "        command = inp.split()[0]\n",
    "        if command == 'print':\n",
    "            print(lst)\n",
    "        elif command  == 'sort':\n",
    "            lst.sort()\n",
    "        elif command == 'pop':\n",
    "            lst.pop()\n",
    "        elif command == 'reverse':\n",
    "            lst.reverse()\n",
    "        if command == 'insert':\n",
    "            command_par1 = int(inp.split()[1])\n",
    "            command_par2 = int(inp.split()[2])\n",
    "            lst.insert(command_par1, command_par2)\n",
    "        elif command == 'remove':\n",
    "            command_par1 = int(inp.split()[1])\n",
    "            lst.remove(command_par1)\n",
    "        elif command == 'append':\n",
    "            command_par1 = int(inp.split()[1])\n",
    "            lst.append(command_par1)"
   ]
  },
  {
   "cell_type": "markdown",
   "metadata": {
    "deletable": true,
    "editable": true
   },
   "source": [
    "### Tuples - hackerrank\n",
    "Given an integer,n , and n space-separated integers as input, create a tuple,t , of those  integers. Then compute and print the result of hash().\n",
    "\n",
    "Note: hash() is one of the functions in the __builtins__ module, so it need not be imported."
   ]
  },
  {
   "cell_type": "code",
   "execution_count": null,
   "metadata": {
    "collapsed": false,
    "deletable": true,
    "editable": true
   },
   "outputs": [],
   "source": [
    "n = int(input())\n",
    "integer_list = map(int, input().split())\n",
    "t = tuple(integer_list)\n",
    "print(hash(t))"
   ]
  },
  {
   "cell_type": "markdown",
   "metadata": {
    "deletable": true,
    "editable": true
   },
   "source": [
    "### List comprehensions - hackerrank\n",
    "Let's learn about list comprehensions! You are given three integers  and  representing the dimensions of a cuboid along with an integer . You have to print a list of all possible coordinates given by  on a 3D grid where the sum of  is not equal to . Here, \n",
    "\n",
    "Input Format\n",
    "\n",
    "Four integers  and  each on four separate lines, respectively.\n",
    "\n",
    "Constraints\n",
    "\n",
    "Print the list in lexicographic increasing order.\n",
    "\n",
    "Sample Input\n",
    "\n",
    "1\n",
    "1\n",
    "1\n",
    "2\n",
    "\n",
    "Sample Output\n",
    "\n",
    "[[0, 0, 0], [0, 0, 1], [0, 1, 0], [1, 0, 0], [1, 1, 1]] "
   ]
  },
  {
   "cell_type": "markdown",
   "metadata": {
    "deletable": true,
    "editable": true
   },
   "source": [
    "### Concept\n",
    "\n",
    "You have already used lists in previous hacks. List comprehensions are an elegant way to build a list without having to use different for loops to append values one by one. These examples might help.\n",
    "\n",
    "The simplest form of a list comprehension is: \n",
    "\n",
    "[ expression-involving-loop-variable for loop-variable in sequence ] \n",
    "\n",
    "This will step over every element in a sequence, successively setting the loop-variable equal to every element one at a time. It will then build up a list by evaluating the expression-involving-loop-variable for each one. This eliminates the need to use lambda forms and generally produces a much more readable code than using map() and a more compact code than using a for loop.\n",
    "\n",
    "> ListOfNumbers = [ x for x in range(10) ] # List of integers from 0 to 9\n",
    "> ListOfNumbers\n",
    "\n",
    ">[0, 1, 2, 3, 4, 5, 6, 7, 8, 9]\n",
    "\n",
    "List comprehensions can be nested where they take the following form: \n",
    "\n",
    ">[ expression-involving-loop-variables for outer-loop-variable in outer-sequence for inner-loop-variable in inner-sequence ] \n",
    "\n",
    "This is equivalent to writing: \n",
    "\n",
    ">results = []\n",
    "\n",
    ">for outer_loop_variable in outer_sequence:\n",
    ">    for inner_loop_variable in inner_sequence:\n",
    ">        results.append( expression_involving_loop_variables )\n",
    "\n",
    "The final form of list comprehension involves creating a list and filtering it similar to using the filter() method. The filtering form of list comprehension takes the following form: \n",
    "\n",
    ">[ expression-involving-loop-variable for loop-variable in sequence if boolean-expression-involving-loop-variable ] \n",
    "\n",
    "This form is similar to the simple form of list comprehension, but it evaluates boolean-expression-involving-loop-variable for every item. It also only keeps those members for which the boolean expression is True.\n",
    "\n",
    "> ListOfThreeMultiples = [x for x in range(10) if x % 3 == 0] # Multiples of 3 below 10\n",
    "> ListOfThreeMultiples\n",
    "\n",
    ">[0, 3, 6, 9]"
   ]
  },
  {
   "cell_type": "code",
   "execution_count": null,
   "metadata": {
    "collapsed": false,
    "deletable": true,
    "editable": true
   },
   "outputs": [],
   "source": [
    "# compact list comprehensions for multiple layers of loops\n",
    "x = int(input())\n",
    "y = int(input())\n",
    "z = int(input())\n",
    "n = int(input())\n",
    "\n",
    "results = []\n",
    "# for i in range(x+1):\n",
    "#     for j in range (y+1):\n",
    "#         [results.append([i, j, k]) for k in range(z+1) if i+j+k != n]\n",
    "# print(results)\n",
    "\n",
    "# # the same as below\n",
    "\n",
    "[results.append([i,j,k]) for i in range(0,x+1) for j in range(0,y+1) for k in range(0,z+1) if i+j+k != n]\n",
    "print(results)\n"
   ]
  },
  {
   "cell_type": "code",
   "execution_count": null,
   "metadata": {
    "collapsed": false,
    "deletable": true,
    "editable": true
   },
   "outputs": [],
   "source": [
    "ls"
   ]
  },
  {
   "cell_type": "markdown",
   "metadata": {
    "collapsed": true,
    "deletable": true,
    "editable": true
   },
   "source": [
    "### Second biggest number - hackerrank"
   ]
  },
  {
   "cell_type": "code",
   "execution_count": null,
   "metadata": {
    "collapsed": false,
    "deletable": true,
    "editable": true
   },
   "outputs": [],
   "source": [
    "# my version\n",
    "n = int(input())\n",
    "arr = set(map(int, input().split()))\n",
    "arr.remove(max(arr))\n",
    "print(max(list(arr)))"
   ]
  },
  {
   "cell_type": "code",
   "execution_count": null,
   "metadata": {
    "collapsed": true,
    "deletable": true,
    "editable": true
   },
   "outputs": [],
   "source": [
    "# input\n",
    "# 5\n",
    "# 2 3 6 6 5"
   ]
  },
  {
   "cell_type": "code",
   "execution_count": null,
   "metadata": {
    "collapsed": false,
    "deletable": true,
    "editable": true
   },
   "outputs": [],
   "source": [
    "# best version\n",
    "n = int(input()); arr = list(set(map(int, input().split()))); print(sorted(arr) [-2])"
   ]
  },
  {
   "cell_type": "markdown",
   "metadata": {
    "deletable": true,
    "editable": true
   },
   "source": [
    "### Nested Lists\n",
    "Given the names and grades for each student in a Physics class of N students, store them in a nested list and print the name(s) of any student(s) having the second lowest grade.\n",
    "\n",
    "Note: If there are multiple students with the same grade, order their names alphabetically and print each name on a new line.\n",
    "\n",
    "Input Format\n",
    "\n",
    "The first line contains an integer,N , the number of students. \n",
    "The  subsequent lines describe each student over 2N lines; the first line contains a student's name, and the second line contains their grade.\n",
    "\n",
    "Constraints\n",
    "\n",
    "There will always be one or more students having the second lowest grade.\n",
    "Output Format\n",
    "\n",
    "Print the name(s) of any student(s) having the second lowest grade in Physics; if there are multiple students, order their names alphabetically and print each one on a new line.\n",
    "\n",
    "Sample Input\n",
    "\n",
    ">5\n",
    "Harry\n",
    "37.21\n",
    "Berry\n",
    "37.21\n",
    "Tina\n",
    "37.2\n",
    "Akriti\n",
    "41\n",
    "Harsh\n",
    "39\n",
    "\n",
    "Sample Output\n",
    "\n",
    ">Berry\n",
    "\n",
    ">Harry\n",
    "\n",
    "Explanation\n",
    "\n",
    "There are  students in this class whose names and grades are assembled to build the following list:\n",
    "\n",
    ">students = [['Harry', 37.21], ['Berry', 37.21], ['Tina', 37.2], ['Akriti', 41], ['Harsh', 39]]\n",
    "\n",
    "The lowest grade of 37.2 belongs to Tina. The second lowest grade of 37.21 belongs to both Harry and Berry, so we order their names alphabetically and print each name on a new line."
   ]
  },
  {
   "cell_type": "code",
   "execution_count": 23,
   "metadata": {
    "collapsed": false,
    "deletable": true,
    "editable": true
   },
   "outputs": [
    {
     "name": "stdout",
     "output_type": "stream",
     "text": [
      "5\n",
      "harry\n",
      "37.21\n",
      "berry\n",
      "37.21\n",
      "tina\n",
      "37.2\n",
      "arkiti\n",
      "41\n",
      "harsh\n",
      "39\n",
      "before if,students[_][1] = 37 and second_worst = 37\n",
      "after if,students[_][1] = 37 and second_worst = 37\n",
      "before if,students[_][1] = 37 and second_worst = 37\n",
      "after if,students[_][1] = 37 and second_worst = 37\n",
      "before if,students[_][1] = 37 and second_worst = 37\n",
      "before if,students[_][1] = 41 and second_worst = 37\n",
      "before if,students[_][1] = 39 and second_worst = 37\n",
      "berry\n",
      "harry\n",
      "[['harry', 37.21], ['berry', 37.21], ['tina', 37.2], ['arkiti', 41.0], ['harsh', 39.0]]\n",
      "37.21\n",
      "[['harry', 37.21], ['berry', 37.21], ['tina', 37.2], ['arkiti', 41.0], ['harsh', 39.0]]\n"
     ]
    }
   ],
   "source": [
    "# my version\n",
    "students, scores, names = [], [], []\n",
    "for _ in range(int(input())):\n",
    "    students.append([input(), float(input())])\n",
    "    scores.append(students[_][1])\n",
    "second_worst = sorted(list(set(scores)),reverse=True)[-2]\n",
    "for _ in range(0,len(students)):\n",
    "    if students[_][1] == second_worst:\n",
    "        output.append(students[_][0])\n",
    "print(\"\\n\".join(sorted(output)))\n",
    "\n",
    "    "
   ]
  },
  {
   "cell_type": "code",
   "execution_count": 48,
   "metadata": {
    "collapsed": false,
    "deletable": true,
    "editable": true
   },
   "outputs": [
    {
     "name": "stdout",
     "output_type": "stream",
     "text": [
      "berry\n",
      "harry\n",
      "['berry', 'harry']\n"
     ]
    }
   ],
   "source": [
    "# best version\n",
    "# sample data ... [['harry', 37.21], ['tina', 37.2], ['arkiti', 41.0], ['berry', 37.21], ['harsh', 39.0]]\n",
    "marksheet = []\n",
    "for _ in range(0,int(input())):\n",
    "    marksheet.append([input(), float(input())])\n",
    "second_highest = sorted(list(set([marks for name, marks in marksheet])))[1]\n",
    "print('\\n'.join([a for a,b in sorted(marksheet) if b == second_highest]))\n",
    "print([a for a,b in sorted(marksheet) if b == second_highest])\n",
    "\n",
    "# another best\n",
    "list_students = []\n",
    "    for _ in range(int(input())):\n",
    "        list_students.append([input(),float(input())])\n",
    "scores = sorted(list(set( x[1] for x in list_students)))\n",
    "matches = sorted(list(x for x in list_students if x[1] == scores[1]))\n",
    "for item in matches:\n",
    "    print(item[0],sep=\"\\n\")    "
   ]
  },
  {
   "cell_type": "code",
   "execution_count": 29,
   "metadata": {
    "collapsed": false,
    "deletable": true,
    "editable": true
   },
   "outputs": [
    {
     "data": {
      "text/plain": [
       "[['tina', 37.2],\n",
       " ['harry', 37.21],\n",
       " ['berry', 37.21],\n",
       " ['harsh', 39.0],\n",
       " ['arkiti', 41.0]]"
      ]
     },
     "execution_count": 29,
     "metadata": {},
     "output_type": "execute_result"
    }
   ],
   "source": [
    "#` very interesting trick - it takes a list of lists \"students\" whose individual elements are a list of two elements and\n",
    "# sort this list of lists based on a rule, which in this case is sort on the 2nd element of each inner list\n",
    "# the word item could be anything\n",
    "students.sort(key=lambda item: item[1])\n",
    "students"
   ]
  },
  {
   "cell_type": "code",
   "execution_count": 57,
   "metadata": {
    "collapsed": false,
    "deletable": true,
    "editable": true
   },
   "outputs": [
    {
     "data": {
      "text/plain": [
       "[39.0]"
      ]
     },
     "execution_count": 57,
     "metadata": {},
     "output_type": "execute_result"
    }
   ],
   "source": [
    "lst = [['harry', 37.21], ['tina', 37.2], ['arkiti', 41.0], ['berry', 37.21], ['harsh', 39.0]]\n",
    "tina = [b for a,b in lst if a == 'harsh']\n",
    "tina"
   ]
  },
  {
   "cell_type": "markdown",
   "metadata": {
    "deletable": true,
    "editable": true
   },
   "source": [
    "### Finding the percentage in a dictionary - hackerrank\n",
    "You have a record of N students. Each record contains the student's name, and their percent marks in Maths, Physics and Chemistry. The marks can be floating values. The user enters some integer N followed by the names and marks for  students. You are required to save the record in a dictionary data type. The user then enters a student's name. Output the average percentage marks obtained by that student, correct to two decimal places.\n",
    "\n",
    "Input Format\n",
    "\n",
    "The first line contains the integer N , the number of students. The next N lines contains the name and marks obtained by that student separated by a space. The final line contains the name of a particular student previously listed."
   ]
  },
  {
   "cell_type": "code",
   "execution_count": 117,
   "metadata": {
    "collapsed": false,
    "deletable": true,
    "editable": true
   },
   "outputs": [
    {
     "name": "stdout",
     "output_type": "stream",
     "text": [
      "3\n",
      "Arjun 70 98 63\n",
      "Krishna 67 68 69\n",
      "Malika 52 56 60 50 14\n",
      "Malika\n",
      "46.40\n"
     ]
    }
   ],
   "source": [
    "# my version\n",
    "n = int(input())\n",
    "student_marks = {}\n",
    "for _ in range(n):\n",
    "    name, *line = input().split()\n",
    "#     list(map(float, line)) the same as below but using map()\n",
    "    scores = [float(i) for i in line]\n",
    "    student_marks[name] = format(sum(scores) / len(scores), '.2f')\n",
    "# another formating option: \"{0:.2f}\".format(sum(scores) / len(scores))\n",
    "print(student_marks[input()])"
   ]
  },
  {
   "cell_type": "code",
   "execution_count": 118,
   "metadata": {
    "collapsed": false,
    "deletable": true,
    "editable": true
   },
   "outputs": [
    {
     "data": {
      "text/plain": [
       "'example\\n3\\nArjun 70 98 63\\nKrishna 67 68 69\\nMalika 52 56 60 50 14\\nMalika\\n46.40\\n'"
      ]
     },
     "execution_count": 118,
     "metadata": {},
     "output_type": "execute_result"
    }
   ],
   "source": [
    "\"\"\"example\n",
    "3\n",
    "Arjun 70 98 63\n",
    "Krishna 67 68 69\n",
    "Malika 52 56 60 50 14\n",
    "Malika\n",
    "46.40\n",
    "\"\"\""
   ]
  },
  {
   "cell_type": "markdown",
   "metadata": {
    "collapsed": true,
    "deletable": true,
    "editable": true
   },
   "source": [
    "### sWAP Case - hackerrank\n",
    "You are given a string . Your task is to swap cases. In other words, convert all lowercase letters to uppercase letters and vice versa.\n",
    "\n",
    "For Example:\n",
    "\n",
    "Www.HackerRank.com → wWW.hACKERrANK.COM\n",
    "\n",
    "Pythonist 2 → pYTHONIST 2\n",
    "\n",
    ">Sample Input\n",
    "\n",
    "HackerRank.com presents \"Pythonist 2\".\n",
    ">Sample Output\n",
    "\n",
    "hACKERrANK.COM PRESENTS \"pYTHONIST 2\"."
   ]
  },
  {
   "cell_type": "code",
   "execution_count": null,
   "metadata": {
    "collapsed": true,
    "deletable": true,
    "editable": true
   },
   "outputs": [],
   "source": [
    "def swap_case(s):\n",
    "    return\n",
    "\n",
    "s = input()\n",
    "result = swap_case(s)\n",
    "print(result)"
   ]
  },
  {
   "cell_type": "code",
   "execution_count": 58,
   "metadata": {
    "collapsed": false,
    "deletable": true,
    "editable": true
   },
   "outputs": [
    {
     "name": "stdout",
     "output_type": "stream",
     "text": [
      "hACKERrANK.COM PRESENTS \"pYTHONIST 2\"\n"
     ]
    }
   ],
   "source": [
    "# my code\n",
    "def swap_case(s):\n",
    "    new = []\n",
    "    for i in s:\n",
    "        \n",
    "        if i.isupper():\n",
    "            new.append(i.lower())\n",
    "        elif i.islower():\n",
    "            new.append(i.upper())\n",
    "        else:\n",
    "            new.append(i)\n",
    "    return ''.join(new)\n",
    "\n",
    "    \n",
    "    \n",
    "\n",
    "            \n",
    "            \n",
    "\n",
    "print(swap_case('HackerRank.com presents \"Pythonist 2\"'))"
   ]
  },
  {
   "cell_type": "code",
   "execution_count": 57,
   "metadata": {
    "collapsed": false,
    "deletable": true,
    "editable": true
   },
   "outputs": [
    {
     "name": "stdout",
     "output_type": "stream",
     "text": [
      "hACKERrANK.COM PRESENTS \"pYTHONIST 2\"\n"
     ]
    }
   ],
   "source": [
    "# best code\n",
    "def swap_case(s):\n",
    "    return \"\".join([x.upper() if x.upper()!=x else x.lower() for x in s])\n",
    "\n",
    "print(swap_case('HackerRank.com presents \"Pythonist 2\"'))"
   ]
  },
  {
   "cell_type": "code",
   "execution_count": 60,
   "metadata": {
    "collapsed": false,
    "deletable": true,
    "editable": true
   },
   "outputs": [
    {
     "name": "stdout",
     "output_type": "stream",
     "text": [
      "hACKERrANK.COM PRESENTS \"pYTHONIST 2\"\n"
     ]
    }
   ],
   "source": [
    "# best code 2\n",
    "def swap_case(s):\n",
    "    return s.swapcase()\n",
    "\n",
    "print(swap_case('HackerRank.com presents \"Pythonist 2\"'))"
   ]
  },
  {
   "cell_type": "markdown",
   "metadata": {
    "deletable": true,
    "editable": true
   },
   "source": [
    "### String split and join - hackerrank\n",
    ">Sample Input\n",
    "\n",
    "this is a string   \n",
    ">Sample Output\n",
    "\n",
    "this-is-a-string"
   ]
  },
  {
   "cell_type": "code",
   "execution_count": 67,
   "metadata": {
    "collapsed": false,
    "deletable": true,
    "editable": true
   },
   "outputs": [
    {
     "name": "stdout",
     "output_type": "stream",
     "text": [
      "this-is-a-string\n"
     ]
    }
   ],
   "source": [
    "def split_and_join(line):return '-'.join(line.split())\n",
    "\n",
    "result = split_and_join(\"this is a string\")\n",
    "print(result)"
   ]
  },
  {
   "cell_type": "markdown",
   "metadata": {
    "deletable": true,
    "editable": true
   },
   "source": [
    "### What's your name - hackerrank\n",
    "Hello firstname lastname! You just delved into python."
   ]
  },
  {
   "cell_type": "code",
   "execution_count": 68,
   "metadata": {
    "collapsed": false,
    "deletable": true,
    "editable": true
   },
   "outputs": [
    {
     "name": "stdout",
     "output_type": "stream",
     "text": [
      "meme\n",
      "bebe\n",
      "Hello meme bebe! You just delved into python.\n"
     ]
    }
   ],
   "source": [
    "def print_full_name(a, b):\n",
    "    print(\"Hello %s %s! You just delved into python.\" %(a,b))\n",
    "\n",
    "first_name = input()\n",
    "last_name = input()\n",
    "print_full_name(first_name, last_name)"
   ]
  },
  {
   "cell_type": "markdown",
   "metadata": {
    "deletable": true,
    "editable": true
   },
   "source": [
    "### Mutations - hackerrank\n",
    "Task \n",
    "Read a given string S, change the character at a given indexi and then print the modified string.\n",
    "\n",
    "Input Format \n",
    "The first line contains a string, . \n",
    "The next line contains an integer , denoting the index location and a character  separated by a space.\n",
    "\n",
    "Output Format \n",
    "Using any of the methods explained above, replace the character at index  with character .\n",
    "\n",
    "Sample Input\n",
    "\n",
    "abracadabra\n",
    "5 k\n",
    "Sample Output\n",
    "\n",
    "abrackdabra"
   ]
  },
  {
   "cell_type": "code",
   "execution_count": 69,
   "metadata": {
    "collapsed": false,
    "deletable": true,
    "editable": true
   },
   "outputs": [
    {
     "name": "stdout",
     "output_type": "stream",
     "text": [
      "abrakadabra\n",
      "3 M\n",
      "abrMkadabra\n"
     ]
    }
   ],
   "source": [
    "def mutate_string(string, position, character):\n",
    "    return s[:position] + character + s[position+1:]\n",
    "\n",
    "s = input()\n",
    "i, c = input().split()\n",
    "s_new = mutate_string(s, int(i), c)\n",
    "print(s_new)"
   ]
  },
  {
   "cell_type": "markdown",
   "metadata": {
    "deletable": true,
    "editable": true
   },
   "source": [
    "### Find a string - hackerrank\n",
    "In this challenge, the user enters a string and a substring. You have to print the number of times that the substring occurs in the given string. String traversal will take place from left to right, not from right to left.\n",
    "\n",
    "NOTE: String letters are case-sensitive.\n",
    "\n",
    ">Input Format\n",
    "\n",
    "The first line of input contains the original string. The next line contains the substring.\n",
    "\n",
    ">Output Format\n",
    "\n",
    "Output the integer number indicating the total number of occurrences of the substring in the original string.\n",
    "\n",
    ">Sample Input\n",
    "\n",
    "ABCDCDC\n",
    "\n",
    "CDC\n",
    "\n",
    ">Sample Output\n",
    "\n",
    "2"
   ]
  },
  {
   "cell_type": "code",
   "execution_count": 96,
   "metadata": {
    "collapsed": false,
    "deletable": true,
    "editable": true
   },
   "outputs": [
    {
     "name": "stdout",
     "output_type": "stream",
     "text": [
      "ABCDCDC\n",
      "CDC\n",
      "2\n",
      "4\n",
      "2\n"
     ]
    }
   ],
   "source": [
    "def count_substring(string, sub_string):\n",
    "    counter = 0\n",
    "    for i in range(len(string)):\n",
    "        if sub_string == string[i:len(sub_string)+i]:\n",
    "            counter += 1\n",
    "            print(string.find(sub_string,i,))\n",
    "    return counter\n",
    "string = input().strip()\n",
    "sub_string = input().strip()\n",
    "\n",
    "count = count_substring(string, sub_string)\n",
    "print(count)"
   ]
  },
  {
   "cell_type": "code",
   "execution_count": null,
   "metadata": {
    "collapsed": true,
    "deletable": true,
    "editable": true
   },
   "outputs": [],
   "source": [
    "ABCDCDC\n",
    "CDC"
   ]
  },
  {
   "cell_type": "code",
   "execution_count": 93,
   "metadata": {
    "collapsed": false,
    "deletable": true,
    "editable": true
   },
   "outputs": [
    {
     "name": "stdout",
     "output_type": "stream",
     "text": [
      "ABCDCDC\n",
      "CDC\n",
      "2\n"
     ]
    }
   ],
   "source": [
    "# best practice 1\n",
    "def count_substring(string, sub_string):\n",
    "    ret = [i for i in range(len(string)) if string.startswith(sub_string, i)]\n",
    "    return len(ret)\n",
    "\n",
    "string = input().strip()\n",
    "sub_string = input().strip()\n",
    "\n",
    "count = count_substring(string, sub_string)\n",
    "print(count)"
   ]
  },
  {
   "cell_type": "code",
   "execution_count": 1,
   "metadata": {
    "collapsed": false,
    "deletable": true,
    "editable": true
   },
   "outputs": [
    {
     "name": "stdout",
     "output_type": "stream",
     "text": [
      "vbvvbv\n",
      "vb\n",
      "2\n"
     ]
    }
   ],
   "source": [
    "# best practice 2\n",
    "def count_substring(string, sub_string):\n",
    "    s = []\n",
    "    for i in range(len(string)):\n",
    "        s.append(string[i:i+len(sub_string)])\n",
    "    return s.count(sub_string)\n",
    "\n",
    "string = input().strip()\n",
    "sub_string = input().strip()\n",
    "\n",
    "count = count_substring(string, sub_string)\n",
    "print(count)\n"
   ]
  },
  {
   "cell_type": "markdown",
   "metadata": {
    "collapsed": true,
    "deletable": true,
    "editable": true
   },
   "source": [
    "### String Validators - hackerank\n",
    "In the first line, print True if S has any alphanumeric characters. Otherwise, print False. \n",
    "In the second line, print True if S has any alphabetical characters. Otherwise, print False. \n",
    "In the third line, print True if S has any digits. Otherwise, print False. \n",
    "In the fourth line, print True if S has any lowercase characters. Otherwise, print False. \n",
    "In the fifth line, print True if S has any uppercase characters. Otherwise, print False."
   ]
  },
  {
   "cell_type": "code",
   "execution_count": 18,
   "metadata": {
    "collapsed": false,
    "deletable": true,
    "editable": true
   },
   "outputs": [
    {
     "name": "stdout",
     "output_type": "stream",
     "text": [
      "df45rt\n",
      "True\n",
      "True\n",
      "True\n",
      "True\n",
      "False\n"
     ]
    }
   ],
   "source": [
    "# my solution\n",
    "s = input()\n",
    "print(any(i.isalnum() for i in s))\n",
    "print(any(i.isalpha() for i in s))\n",
    "print(any(i.isdigit() for i in s))\n",
    "print(any(i.islower() for i in s))\n",
    "print(any(i.isupper() for i in s))\n",
    "\n"
   ]
  },
  {
   "cell_type": "code",
   "execution_count": 19,
   "metadata": {
    "collapsed": false,
    "deletable": true,
    "editable": true
   },
   "outputs": [
    {
     "name": "stdout",
     "output_type": "stream",
     "text": [
      "df45gh\n",
      "True\n",
      "True\n",
      "True\n",
      "True\n",
      "False\n"
     ]
    }
   ],
   "source": [
    "# best solution\n",
    "s = input()\n",
    "func = [\".isalnum()\",\".isalpha()\",\".isdigit()\",\".islower()\",\".isupper()\"]\n",
    "for i in func:\n",
    "  eval(\"print (any(char\" + i + \" for char in s))\")"
   ]
  },
  {
   "cell_type": "markdown",
   "metadata": {
    "deletable": true,
    "editable": true
   },
   "source": [
    "### Hackerrank logo"
   ]
  },
  {
   "cell_type": "code",
   "execution_count": 28,
   "metadata": {
    "collapsed": false,
    "deletable": true,
    "editable": true
   },
   "outputs": [
    {
     "name": "stdout",
     "output_type": "stream",
     "text": [
      "7\n",
      "      H      \n",
      "     HHH     \n",
      "    HHHHH    \n",
      "   HHHHHHH   \n",
      "  HHHHHHHHH  \n",
      " HHHHHHHHHHH \n",
      "HHHHHHHHHHHHH\n",
      "   HHHHHHH                     HHHHHHH                  \n",
      "   HHHHHHH                     HHHHHHH                  \n",
      "   HHHHHHH                     HHHHHHH                  \n",
      "   HHHHHHH                     HHHHHHH                  \n",
      "   HHHHHHH                     HHHHHHH                  \n",
      "   HHHHHHH                     HHHHHHH                  \n",
      "   HHHHHHH                     HHHHHHH                  \n",
      "   HHHHHHH                     HHHHHHH                  \n",
      "   HHHHHHHHHHHHHHHHHHHHHHHHHHHHHHHHHHH    \n",
      "   HHHHHHHHHHHHHHHHHHHHHHHHHHHHHHHHHHH    \n",
      "   HHHHHHHHHHHHHHHHHHHHHHHHHHHHHHHHHHH    \n",
      "   HHHHHHHHHHHHHHHHHHHHHHHHHHHHHHHHHHH    \n",
      "   HHHHHHH                     HHHHHHH                  \n",
      "   HHHHHHH                     HHHHHHH                  \n",
      "   HHHHHHH                     HHHHHHH                  \n",
      "   HHHHHHH                     HHHHHHH                  \n",
      "   HHHHHHH                     HHHHHHH                  \n",
      "   HHHHHHH                     HHHHHHH                  \n",
      "   HHHHHHH                     HHHHHHH                  \n",
      "   HHHHHHH                     HHHHHHH                  \n",
      "                            HHHHHHHHHHHHH \n",
      "                             HHHHHHHHHHH  \n",
      "                              HHHHHHHHH   \n",
      "                               HHHHHHH    \n",
      "                                HHHHH     \n",
      "                                 HHH      \n",
      "                                  H       \n"
     ]
    }
   ],
   "source": [
    "#Replace all ______ with rjust, ljust or center. \n",
    "\n",
    "thickness = int(input()) #This must be an odd number\n",
    "c = 'H'\n",
    "\n",
    "#Top Cone\n",
    "for i in range(thickness):\n",
    "    print((c*i).rjust(thickness-1)+c+(c*i).ljust(thickness-1))\n",
    "\n",
    "#Top Pillars\n",
    "for i in range(thickness+1):\n",
    "    print((c*thickness).center(thickness*2)+(c*thickness).center(thickness*6))\n",
    "\n",
    "#Middle Belt\n",
    "for i in range((thickness+1)//2):\n",
    "    print((c*thickness*5).center(thickness*6))    \n",
    "\n",
    "#Bottom Pillars\n",
    "for i in range(thickness+1):\n",
    "    print((c*thickness).center(thickness*2)+(c*thickness).center(thickness*6))    \n",
    "\n",
    "#Bottom Cone\n",
    "for i in range(thickness):\n",
    "    print(((c*(thickness-i-1)).rjust(thickness)+c+(c*(thickness-i-1)).ljust(thickness)).rjust(thickness*6))  "
   ]
  },
  {
   "cell_type": "markdown",
   "metadata": {
    "deletable": true,
    "editable": true
   },
   "source": [
    "### textwraps - hackerrank"
   ]
  },
  {
   "cell_type": "code",
   "execution_count": 30,
   "metadata": {
    "collapsed": false,
    "deletable": true,
    "editable": true
   },
   "outputs": [
    {
     "name": "stdout",
     "output_type": "stream",
     "text": [
      "rt rt rt \n",
      "4\n",
      "rt\n",
      "rt\n",
      "rt\n"
     ]
    }
   ],
   "source": [
    "import textwrap\n",
    "def wrap(string, max_width):\n",
    "    return textwrap.fill(string, max_width)\n",
    "\n",
    "\n",
    "string, max_width = input(), int(input())\n",
    "result = wrap(string, max_width)\n",
    "print(result)"
   ]
  },
  {
   "cell_type": "markdown",
   "metadata": {
    "deletable": true,
    "editable": true
   },
   "source": [
    "## # Designer foor mat - hackerrank"
   ]
  },
  {
   "cell_type": "code",
   "execution_count": 31,
   "metadata": {
    "collapsed": true,
    "deletable": true,
    "editable": true
   },
   "outputs": [],
   "source": [
    "# Sample Input\n",
    "\n",
    "# >9 27\n",
    "# Sample Output\n",
    "\n",
    "# ------------.|.------------\n",
    "# ---------.|..|..|.---------\n",
    "# ------.|..|..|..|..|.------\n",
    "# ---.|..|..|..|..|..|..|.---\n",
    "# ----------WELCOME----------\n",
    "# ---.|..|..|..|..|..|..|.---\n",
    "# ------.|..|..|..|..|.------\n",
    "# ---------.|..|..|.---------\n",
    "#------------.|.------------"
   ]
  },
  {
   "cell_type": "code",
   "execution_count": 32,
   "metadata": {
    "collapsed": false,
    "deletable": true,
    "editable": true
   },
   "outputs": [
    {
     "name": "stdout",
     "output_type": "stream",
     "text": [
      "4 5\n",
      "1\n",
      "3\n",
      "2\n",
      "0\n"
     ]
    }
   ],
   "source": [
    "# my code- i didn't knwo how to di it\n",
    "N, M = map(int,input().split()) # More than 6 lines of code will result in 0 score. Blank lines are not counted.\n",
    "for i in range(1,N,2): \n",
    "    print(i)\n",
    "print #Enter Code Here\n",
    "for i in range(N-2,-1,-2): \n",
    "    print(i)"
   ]
  },
  {
   "cell_type": "code",
   "execution_count": 33,
   "metadata": {
    "collapsed": false,
    "deletable": true,
    "editable": true
   },
   "outputs": [
    {
     "name": "stdout",
     "output_type": "stream",
     "text": [
      "4 5\n",
      "-.|.-\n",
      ".|..|..|.\n",
      "WELCOME\n",
      ".|..|..|.\n",
      "-.|.-\n"
     ]
    },
    {
     "data": {
      "text/plain": [
       "['-.|.-', '.|..|..|.']"
      ]
     },
     "execution_count": 33,
     "metadata": {},
     "output_type": "execute_result"
    }
   ],
   "source": [
    "# best option #1\n",
    "n, m = map(int,input().split())\n",
    "pattern = [('.|.'*(2*i + 1)).center(m, '-') for i in range(n//2)]\n",
    "print('\\n'.join(pattern + ['WELCOME'.center(m, '-')] + pattern[::-1]))\n",
    "pattern"
   ]
  },
  {
   "cell_type": "code",
   "execution_count": 34,
   "metadata": {
    "collapsed": false,
    "deletable": true,
    "editable": true
   },
   "outputs": [
    {
     "name": "stdout",
     "output_type": "stream",
     "text": [
      "3 9\n",
      "---.|.---\n",
      "-WELCOME-\n",
      "---.|.---\n"
     ]
    }
   ],
   "source": [
    "# best option #2\n",
    "N, M = map(int,input().split())\n",
    "for i in range(0,N):\n",
    "    l = 'WELCOME' if i == N//2 else ('.|.'*(N-(2*abs(i-int(N/2)))))         \n",
    "    print(l.center(M,'-'))"
   ]
  },
  {
   "cell_type": "code",
   "execution_count": 35,
   "metadata": {
    "collapsed": true,
    "deletable": true,
    "editable": true
   },
   "outputs": [],
   "source": [
    "### String Formatting - hackerrank\n",
    "# Given an integer,n , print the following values for each integer 1 from  to n:\n",
    "\n",
    "# Decimal\n",
    "# Octal\n",
    "# Hexadecimal (capitalized)\n",
    "# Binary\n",
    "# The four values must be printed on a single line in the order specified above for each i from 1 to n. \n",
    "# Each value should be space-padded to match the width of the binary value of n."
   ]
  },
  {
   "cell_type": "code",
   "execution_count": 36,
   "metadata": {
    "collapsed": false,
    "deletable": true,
    "editable": true
   },
   "outputs": [
    {
     "name": "stdout",
     "output_type": "stream",
     "text": [
      "4\n",
      "  1   1   1   1\n",
      "  2   2   2  10\n",
      "  3   3   3  11\n",
      "  4   4   4 100\n"
     ]
    }
   ],
   "source": [
    "def print_formatted(number):\n",
    "        for i in range(1, n+1):\n",
    "            print(str(i).rjust(len(bin(n)[2:])), str(oct(i))[2:].rjust(len(bin(n)[2:])), str(hex(i))[2:].rjust(len(bin(n)[2:])).upper(), \\\n",
    "                  str(bin(i))[2:].rjust(len(bin(n)[2:])))\n",
    "\n",
    "        \n",
    "    \n",
    "n = int(input())\n",
    "print_formatted(n)"
   ]
  },
  {
   "cell_type": "code",
   "execution_count": 37,
   "metadata": {
    "collapsed": false,
    "deletable": true,
    "editable": true
   },
   "outputs": [
    {
     "name": "stdout",
     "output_type": "stream",
     "text": [
      "5\n",
      "  1   1   1   1\n",
      "  2   2   2  10\n",
      "  3   3   3  11\n",
      "  4   4   4 100\n",
      "  5   5   5 101\n"
     ]
    }
   ],
   "source": [
    "# best practice\n",
    "n = int(input())\n",
    "width = len(\"{0:b}\".format(n))\n",
    "for i in range(1,n+1):\n",
    "    print(\"{0:{width}d} {0:{width}o} {0:{width}X} {0:{width}b}\".format(i, width=width))"
   ]
  },
  {
   "cell_type": "markdown",
   "metadata": {
    "deletable": true,
    "editable": true
   },
   "source": [
    "### Alphabet rangoli\n",
    "You are given an integer,N . Your task is to print an alphabet rangoli of size N . (Rangoli is a form of Indian folk art based on creation of patterns.)\n",
    "\n",
    "Different sizes of alphabet rangoli are shown below:"
   ]
  },
  {
   "cell_type": "code",
   "execution_count": 38,
   "metadata": {
    "collapsed": false,
    "deletable": true,
    "editable": true
   },
   "outputs": [
    {
     "name": "stdout",
     "output_type": "stream",
     "text": [
      "5\n",
      "-------e-------\n",
      "-------e-------\n",
      "-------e-------\n",
      "-------e-------\n",
      "-------e-------\n",
      "-------e-------\n",
      "-------e-------\n",
      "-------e-------\n",
      "-------e-------\n"
     ]
    }
   ],
   "source": [
    "# my version - I couldn't finish it\n",
    "def print_rangoli(size):\n",
    "    m= n*3\n",
    "    i = n + (n-1)\n",
    "    pattern = [chr(i) for i in range(ord('a'),ord('z')+1)]\n",
    "    for i in range(i):\n",
    "        print((pattern[n-1]).center(m, '-'))\n",
    "    \n",
    "\n",
    "n = int(input())\n",
    "print_rangoli(n)"
   ]
  },
  {
   "cell_type": "code",
   "execution_count": 39,
   "metadata": {
    "collapsed": false,
    "deletable": true,
    "editable": true
   },
   "outputs": [
    {
     "name": "stdout",
     "output_type": "stream",
     "text": [
      "4\n",
      "------d------\n",
      "----d-c-d----\n",
      "--d-c-b-c-d--\n",
      "d-c-b-a-b-c-d\n",
      "--d-c-b-c-d--\n",
      "----d-c-d----\n",
      "------d------\n"
     ]
    }
   ],
   "source": [
    "# best option\n",
    "n = int(input())\n",
    "alpha = [chr(i) for i in range(ord('a'),ord('z')+1)]\n",
    "L = []\n",
    "for i in range(n):\n",
    "    s = \"-\".join(alpha[i:n])\n",
    "    L.append((s[::-1]+s[1:]).center(4*n-3, \"-\"))\n",
    "print('\\n'.join(L[:0:-1]+L))"
   ]
  },
  {
   "cell_type": "markdown",
   "metadata": {
    "deletable": true,
    "editable": true
   },
   "source": [
    "### Capitalise"
   ]
  },
  {
   "cell_type": "code",
   "execution_count": 40,
   "metadata": {
    "collapsed": false,
    "deletable": true,
    "editable": true
   },
   "outputs": [
    {
     "name": "stdout",
     "output_type": "stream",
     "text": [
      "rt 56\n",
      "Rt 56\n"
     ]
    }
   ],
   "source": [
    "def capitalize(string):\n",
    "#     if not string[0].isdigit():\n",
    "#         return string.title()\n",
    "#     lst = string.split()\n",
    "    return ' '.join([i.capitalize() for i in string.split(' ')])\n",
    "#     return ' '.join([word.capitalize() for word in string.split(' ')])\n",
    "\n",
    "string = input()\n",
    "capitalized_string = capitalize(string)\n",
    "print(capitalized_string)"
   ]
  },
  {
   "cell_type": "markdown",
   "metadata": {
    "collapsed": true,
    "deletable": true,
    "editable": true
   },
   "source": [
    "### The Minion game\n",
    "\n",
    "Kevin and Stuart want to play the 'The Minion Game'.\n",
    "\n",
    "Game Rules\n",
    "\n",
    "Both players are given the same string, S.\n",
    "Both players have to make substrings using the letters of the string S.\n",
    "Stuart has to make words starting with consonants.\n",
    "Kevin has to make words starting with vowels. \n",
    "The game ends when both players have made all possible substrings. \n",
    "\n",
    "Scoring\n",
    "A player gets +1 point for each occurrence of the substring in the string S.\n",
    "\n",
    "For Example:\n",
    "String  = BANANA\n",
    "Kevin's vowel beginning word = ANA\n",
    "Here, ANA occurs twice in BANANA. Hence, Kevin will get 2 Points. "
   ]
  },
  {
   "cell_type": "code",
   "execution_count": null,
   "metadata": {
    "collapsed": true,
    "deletable": true,
    "editable": true
   },
   "outputs": [],
   "source": [
    "# this is my code. It only works with relatively small or average strings, but kernel dies with long strings. \n",
    "# for example of 5000 characters.\n",
    "# in the next section below there is a code from stackexchange that works for all the cases. It only counts \n",
    "# ocurences with math, not by for loops\n",
    "def minion_game(string):\n",
    "\n",
    "\n",
    "    subs = [s[i:j] for i in range(len(s)+1) for j in range(len(s)+1) if s[i:j] != '']\n",
    "   \n",
    "\n",
    "    counter_st = 0\n",
    "    counter_kv = 0\n",
    "    for i in subs:\n",
    "    \n",
    "        if i.startswith(('A', 'E', 'I', 'O', 'U')):\n",
    "            counter_kv += 1\n",
    "        else:\n",
    "            counter_st += 1\n",
    "    if counter_st > counter_kv:\n",
    "        print('Stuart', counter_st)\n",
    "    elif counter_kv > counter_st:\n",
    "        print('Kevin', counter_kv)\n",
    "    else: print('Draw')\n",
    "        \n",
    "\n",
    "        \n",
    "    \n",
    "\n",
    "s = input()\n",
    "minion_game(s)"
   ]
  },
  {
   "cell_type": "code",
   "execution_count": 1,
   "metadata": {
    "collapsed": false,
    "deletable": true,
    "editable": true,
    "scrolled": false
   },
   "outputs": [
    {
     "name": "stdout",
     "output_type": "stream",
     "text": [
      "Stuart 7501500\n"
     ]
    }
   ],
   "source": [
    "# best code - taken from stackexchange forum. It works with very long strings\n",
    "### logic explanation ###\n",
    "\"\"\"\n",
    "Lets do some numbers, in a text of length = 4, like in abcd, you'll get the following word combinations:\n",
    "\n",
    "4 words starting with first letter: abcd, abc, ab, a\n",
    "3 words starting with second letter: bcd, bc, b\n",
    "2 words starting with third letter: cd, c\n",
    "1 word starting with fourth letter: d\n",
    "In other words the total points available in your game for a text with length, N, \n",
    "is the sum of N+N−1+N−2+...+2+1N+N−1+N−2+...+2+1. Luckily there exist an easy formula to calculate this number:\n",
    "(N+1)∗N/2(N+1)∗N/2. \n",
    "When reviewing your original problem statement, you need to calculate points of words starting with either a vowel\n",
    "or a consonant. You don't need to actually now the words.\n",
    "\n",
    "Combining this with knowledge from previous section that at a given position, k, in the text you can generate N−k\n",
    "words, the total complexity reduces quite nicely to a method like the following:\n",
    "\"\"\"\n",
    "\n",
    "def minion_game(s):\n",
    "    count_vow_kev, count_con_stu = 0, 0\n",
    "    for (index, letter) in enumerate(s):\n",
    "        if letter in ['A', 'E', 'I', 'O', 'U']:\n",
    "            count_vow_kev += len(s) - index\n",
    "        else:\n",
    "            count_con_stu += len(s) - index\n",
    "    if count_con_stu > count_vow_kev:\n",
    "        print('Stuart', count_con_stu)\n",
    "    elif count_vow_kev > count_con_stu:\n",
    "        print('Kevin', count_vow_kev)\n",
    "    else: print('Draw')\n",
    "    \n",
    "\n",
    "s = 'NANANNANANNANANNANANNANANNANANNANANNANANNANANNANANNANANNANANNANANNANANNANANNANANNANANNANANNANANNANANNANANNANANNANANNANANNANANNANANNANANNANANNANANNANANNANANNANANNANANNANANNANANNANANNANANNANANNANANNANANNANANNANANNANANNANANNANANNANANNANANNANANNANANNANANNANANNANANNANANNANANNANANNANANNANANNANANNANANNANANNANANNANANNANANNANANNANANNANANNANANNANANNANANNANANNANANNANANNANANNANANNANANNANANNANANNANANNANANNANANNANANNANANNANANNANANNANANNANANNANANNANANNANANNANANNANANNANANNANANNANANNANANNANANNANANNANANNANANNANANNANANNANANNANANNANANNANANNANANNANANNANANNANANNANANNANANNANANNANANNANANNANANNANANNANANNANANNANANNANANNANANNANANNANANNANANNANANNANANNANANNANANNANANNANANNANANNANANNANANNANANNANANNANANNANANNANANNANANNANANNANANNANANNANANNANANNANANNANANNANANNANANNANANNANANNANANNANANNANANNANANNANANNANANNANANNANANNANANNANANNANANNANANNANANNANANNANANNANANNANANNANANNANANNANANNANANNANANNANANNANANNANANNANANNANANNANANNANANNANANNANANNANANNANANNANANNANANNANANNANANNANANNANANNANANNANANNANANNANANNANANNANANNANANNANANNANANNANANNANANNANANNANANNANANNANANNANANNANANNANANNANANNANANNANANNANANNANANNANANNANANNANANNANANNANANNANANNANANNANANNANANNANANNANANNANANNANANNANANNANANNANANNANANNANANNANANNANANNANANNANANNANANNANANNANANNANANNANANNANANNANANNANANNANANNANANNANANNANANNANANNANANNANANNANANNANANNANANNANANNANANNANANNANANNANANNANANNANANNANANNANANNANANNANANNANANNANANNANANNANANNANANNANANNANANNANANNANANNANANNANANNANANNANANNANANNANANNANANNANANNANANNANANNANANNANANNANANNANANNANANNANANNANANNANANNANANNANANNANANNANANNANANNANANNANANNANANNANANNANANNANANNANANNANANNANANNANANNANANNANANNANANNANANNANANNANANNANANNANANNANANNANANNANANNANANNANANNANANNANANNANANNANANNANANNANANNANANNANANNANANNANANNANANNANANNANANNANANNANANNANANNANANNANANNANANNANANNANANNANANNANANNANANNANANNANANNANANNANANNANANNANANNANANNANANNANANNANANNANANNANANNANANNANANNANANNANANNANANNANANNANANNANANNANANNANANNANANNANANNANANNANANNANANNANANNANANNANANNANANNANANNANANNANANNANANNANANNANANNANANNANANNANANNANANNANANNANANNANANNANANNANANNANANNANANNANANNANANNANANNANANNANANNANANNANANNANANNANANNANANNANANNANANNANANNANANNANANNANANNANANNANANNANANNANANNANANNANANNANANNANANNANANNANANNANANNANANNANANNANANNANANNANANNANANNANANNANANNANANNANANNANANNANANNANANNANANNANANNANANNANANNANANNANANNANANNANANNANANNANANNANANNANANNANANNANANNANANNANANNANANNANANNANANNANANNANANNANANNANANNANANNANANNANANNANANNANANNANANNANANNANANNANANNANANNANANNANANNANANNANANNANANNANANNANANNANANNANANNANANNANANNANANNANANNANANNANANNANANNANANNANANNANANNANANNANANNANANNANANNANANNANANNANANNANANNANANNANANNANANNANANNANANNANANNANANNANANNANANNANANNANANNANANNANANNANANNANANNANANNANANNANANNANANNANANNANANNANANNANANNANANNANANNANANNANANNANANNANANNANANNANANNANANNANANNANANNANANNANANNANANNANANNANANNANANNANANNANANNANANNANANNANANNANANNANANNANANNANANNANANNANANNANANNANANNANANNANANNANANNANANNANANNANANNANANNANANNANANNANANNANANNANANNANANNANANNANANNANANNANANNANANNANANNANANNANANNANANNANANNANANNANANNANANNANANNANANNANANNANANNANANNANANNANANNANANNANANNANANNANANNANANNANANNANANNANANNANANNANANNANANNANANNANANNANANNANANNANANNANANNANANNANANNANANNANANNANANNANANNANANNANANNANANNANANNANANNANANNANANNANANNANANNANANNANANNANANNANANNANANNANANNANANNANANNANANNANANNANANNANANNANANNANANNANANNANANNANANNANANNANANNANANNANANNANANNANANNANANNANANNANANNANANNANANNANANNANANNANANNANANNANANNANANNANANNANANNANANNANANNANANNANANNANANNANANNANANNANANNANANNANANNANANNANANNANANNANANNANANNANANNANANNANANNANANNANANNANANNANANNANANNANANNANANNANANNANANNANANNANANNANANNANANNANANNANANNANANNANANNANANNANANNANANNANANNANANNANANNANANNANANNANANNANANNANANNANANNANANNANANNANANNANANNANANNANANNANANNANANNANANNANANNANANNANANNANANNANANNANANNANANNANANNANANNANANNANANNANANNANANNANANNANANNANANNANANNANANNANANNANANNANANNANANNANANNANANNANANNANANNANANNANANNANANNANANNANANNANANNANANNANANNANANNANANNANANNANANNANANNANANNANANNANANNANANNANANNANANNANANNANANNANANNANANNANANNANANNANANNANANNANANNANANNANANNANANNANANNANANNANANNANANNANANNANANNANANNANANNANANNANANNANANNANANNANANNANANNANANNANANNANANNANANNANANNANANNANANNANANNANANNANANNANANNANANNANANNANANNANANNANANNANANNANANNANANNANANNANANNANANNANANNANANNANANNANANNANANNANANNANANNANANNANANNANANNANANNANANNANANNANANNANANNANANNANANNANANNANANNANANNANANNANANNANANNANANNANANNANANNANANNANANNANANNANANNANANNANANNANANNANANNANANNANANNANANNANANNANANNANANNANANNANANNANANNANANNANANNANANNANANNANANNANANNANANNANANNANANNANANNANANNANANNANANNANANNANANNANANNANANNANANNANANNANANNANANNANANNANANNANANNANANNANANNANANNANANNANANNANANNANANNANANNANANNANANNANANNANANNANANNANANNANANNANANNANANNANANNANANNANANNANANNANANNANANNANANNANANNANANNANANNANANNANANNANANNANANNANANNANANNANANNANANNANANNANANNANANNANANNANANNANANNANANNANANNANANNANANNANANNANANNANANNANANNANANNANANNANANNANANNANANNANANNANANNANANNANANNANANNANANNANANNANANNANANNANANNANANNANANNANANNANANNANANNANANNANANNANANNANANNANANNANANNANANNANANNANANNANANNANANNANANNANANNANANNANANNANANNANANNANANNANANNANANNANANNANANNANANNANANNANANNANANNANANNANANNANANNANANNANANNANANNANANNANANNANANNANANNANANNANANNANANNANANNANANNANANNANANNANANNANANNANANNANANNANANNANANNANANNANANNANANNANANNANANNANANNANANNANANNANANNANANNANANNANANNANANNANANNANANNANANNANANNANANNANANNANANNANANNANAN'\n",
    "minion_game(s)\n"
   ]
  },
  {
   "cell_type": "code",
   "execution_count": null,
   "metadata": {
    "collapsed": true,
    "deletable": true,
    "editable": true
   },
   "outputs": [],
   "source": []
  }
 ],
 "metadata": {
  "kernelspec": {
   "display_name": "Python 3",
   "language": "python",
   "name": "python3"
  },
  "language_info": {
   "codemirror_mode": {
    "name": "ipython",
    "version": 3
   },
   "file_extension": ".py",
   "mimetype": "text/x-python",
   "name": "python",
   "nbconvert_exporter": "python",
   "pygments_lexer": "ipython3",
   "version": "3.5.3"
  }
 },
 "nbformat": 4,
 "nbformat_minor": 2
}
