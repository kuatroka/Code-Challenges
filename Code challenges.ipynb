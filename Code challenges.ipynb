{
 "cells": [
  {
   "cell_type": "markdown",
   "metadata": {},
   "source": [
    "### Kata 1\n",
    "Will you make it?\n",
    "\n",
    "You were camping with your friends far away from home, but when it's time to go back, you realize that you fuel is running out and the nearest pump is 50 miles away! You know that on average, your car runs on about 25 miles per gallon. There are 2 gallons left. Considering these factors, write a function that tells you if it is possible to get to the pump or not. Function should return True if it is possible and False if not."
   ]
  },
  {
   "cell_type": "code",
   "execution_count": null,
   "metadata": {
    "collapsed": false
   },
   "outputs": [],
   "source": [
    "# my version\n",
    "def zeroFuel(distance_to_pump, mpg, fuel_left):\n",
    "    if distance_to_pump / mpg <= fuel_left:\n",
    "        return True\n",
    "    else:\n",
    "        return False\n",
    "    \n",
    "# zeroFuel(50, 25, 2)    \n",
    "zeroFuel(100, 50, 1)\n",
    "# test.assert_equals(zeroFuel(50, 25, 2), True)\n",
    "# test.assert_equals(zeroFuel(100, 50, 1), False)"
   ]
  },
  {
   "cell_type": "code",
   "execution_count": null,
   "metadata": {
    "collapsed": false
   },
   "outputs": [],
   "source": [
    "# best solution from codewars\n",
    "def zeroFuel(distance_to_pump, mpg, fuel_left):\n",
    "    return distance_to_pump <= mpg * fuel_left\n",
    "\n",
    "zeroFuel(100, 50, 2)"
   ]
  },
  {
   "cell_type": "markdown",
   "metadata": {},
   "source": [
    "### Kata 2\n",
    "In this kata, you will write a function that receives an array of string and returns a string that is either 'naughty' or 'nice'. Strings that start with the letters b, f, or k are naughty. Strings that start with the letters g, s, or n are nice. Other strings are neither naughty nor nice.\n",
    "\n",
    "If there is an equal amount of bad and good actions, return 'naughty'\n",
    "\n",
    "Examples:\n",
    "\n",
    "bad_actions = ['broke someone\\'s window', 'fought over a toaster', 'killed a bug']\n",
    "whatListAmIOn(bad_actions) #-> 'naughty'\n",
    "\n",
    "good_actions = ['got someone a new car', 'saved a man from drowning', 'never got into a fight']\n",
    "what_list_am_i_on(good_actions) #-> 'nice'\n",
    "\n",
    "actions = ['broke a vending machine', 'never got into a fight', 'tied someone\\'s shoes']\n",
    "what_list_am_i_on(actions) #-> 'naughty'"
   ]
  },
  {
   "cell_type": "code",
   "execution_count": null,
   "metadata": {
    "collapsed": false
   },
   "outputs": [],
   "source": [
    "# my version\n",
    "def what_list_am_i_on(actions):\n",
    "    count_bad = 0\n",
    "    count_good = 0\n",
    "    \n",
    "    for i in actions:\n",
    "        if i[0] in ('b', 'f', 'k'):\n",
    "            count_bad += 1\n",
    "        if i[0] in ('g', 's', 'r'):\n",
    "            count_good += 1\n",
    "    return 'naughty' if count_bad >= count_good else 'nice'\n",
    "    \n",
    "    \n",
    "            \n",
    "print(what_list_am_i_on(['broke someone\\'s window', 'fought over a toaster', 'killed a bug']))\n",
    "print(what_list_am_i_on(['got someone a new car', 'saved a man from drowning', 'never got into a fight']))\n",
    "print(what_list_am_i_on(['broke a vending machine', 'never got into a fight', 'tied someone\\'s shoes']))\n",
    "    "
   ]
  },
  {
   "cell_type": "code",
   "execution_count": null,
   "metadata": {
    "collapsed": false
   },
   "outputs": [],
   "source": [
    "# best practice from codewars\n",
    "def what_list_am_i_on(actions):\n",
    "    nice,naut = 0,0\n",
    "    for item in actions:\n",
    "        if item.startswith(('b','f','k')):\n",
    "            naut += 1\n",
    "        elif item.startswith(('g','s','n')):\n",
    "            nice += 1\n",
    "    return 'nice' if nice > naut else 'naughty'\n",
    "print(what_list_am_i_on(['broke a vending machine', 'never got into a fight', 'tied someone\\'s shoes']))\n",
    "\n",
    "# clever from codewars\n",
    "def whatListAmIOn(a):\n",
    "    return 'nice' if sum(i[0] in 'gsn' for i in a) > sum(i[0] in 'bfk' for i in a) else 'naughty'\n",
    "\n",
    "print(whatListAmIOn(['broke a vending machine', 'never got into a fight', 'tied someone\\'s shoes']))"
   ]
  },
  {
   "cell_type": "markdown",
   "metadata": {},
   "source": [
    "### Kata 3\n",
    "We need a function that can transform a number into a string.\n",
    "What ways of achieving this do you know?"
   ]
  },
  {
   "cell_type": "code",
   "execution_count": null,
   "metadata": {
    "collapsed": false
   },
   "outputs": [],
   "source": [
    "# my solution\n",
    "def number_to_string(num):\n",
    "    return str(num)\n",
    "\n",
    "    \n",
    "number_to_string(123)\n",
    "#/* returns '123' */\n",
    "# number_to_string(999) /* returns '999' */"
   ]
  },
  {
   "cell_type": "code",
   "execution_count": null,
   "metadata": {
    "collapsed": false
   },
   "outputs": [],
   "source": [
    "# clever solution from codewars\n",
    "number_to_string = str\n",
    "\n",
    "number_to_string(123)\n"
   ]
  },
  {
   "cell_type": "markdown",
   "metadata": {},
   "source": [
    "### Kata 4\n",
    "Jenny has written a function that returns a greeting for a user. However, she's in love with Johnny, and would like to greet him slightly different. She added a special case to her function, but she made a mistake.\n",
    "\n",
    "Can you help her?"
   ]
  },
  {
   "cell_type": "code",
   "execution_count": null,
   "metadata": {
    "collapsed": false
   },
   "outputs": [],
   "source": [
    "# my version and I think it's the shortest one\n",
    "def greet(name):\n",
    "    return \"Hello, my love!\"  if name == \"Johnny\" else \"Hello, {name}!\".format(name=name)\n",
    "\n",
    "\n",
    "greet(\"Jane\") # \"Hello, Jane!\")\n",
    "# greet(\"Jim\") # \"Hello, Jim!\")\n",
    "\n",
    "\n",
    "greet(\"Johnny\") # \"Hello, my love!\")"
   ]
  },
  {
   "cell_type": "markdown",
   "metadata": {},
   "source": [
    "### Kata 5\n",
    "Consider an array of sheep where some sheep may be missing from their place. We need a function that counts the number of sheep present in the array (true means present).\n",
    "\n",
    "For example:\n",
    "[True,  True,  True,  False,\n",
    "  True,  True,  True,  True ,\n",
    "  True,  False, True,  False,\n",
    "  True,  False, False, True ,\n",
    "  True,  True,  True,  True ,\n",
    "  False, False, True,  True]\n",
    "The correct answer would be 17.\n",
    "\n",
    "Hint: Don't forget to check for bad values like null/undefined"
   ]
  },
  {
   "cell_type": "code",
   "execution_count": null,
   "metadata": {
    "collapsed": false
   },
   "outputs": [],
   "source": [
    "# my version\n",
    "def count_sheeps(arrayOfSheeps):\n",
    "    return sum([x for x in arrayOfSheeps if x is True])\n",
    "    \n",
    "array1 = [True,  True,  True,  False,\n",
    "          True,  True,  True,  True ,\n",
    "          True,  False, True,  False,\n",
    "          True,  False, False, True ,\n",
    "          True,  True,  True,  True ,\n",
    "          False, False, True,  True ];\n",
    "count_sheeps(array1), 17, \"There are 17 sheeps in total, not %s\" % count_sheeps(array1)"
   ]
  },
  {
   "cell_type": "code",
   "execution_count": null,
   "metadata": {
    "collapsed": false
   },
   "outputs": [],
   "source": [
    "# best practice and clever from codewars\n",
    "def count_sheeps(arrayOfSheeps):\n",
    "    return arrayOfSheeps.count(True)\n",
    "\n",
    "count_sheeps(array1), 17, \"There are 17 sheeps in total, not %s\" % count_sheeps(array1)\n",
    "\n",
    "#--------------------\n",
    "def count_sheeps(sheep):\n",
    "    return len([x for x in sheep if x])\n",
    "\n",
    "count_sheeps(array1), 17, \"There are 17 sheeps in total, not %s\" % count_sheeps(array1)"
   ]
  },
  {
   "cell_type": "markdown",
   "metadata": {
    "collapsed": true
   },
   "source": [
    "### Identify a leap year\n",
    "hackerrank"
   ]
  },
  {
   "cell_type": "code",
   "execution_count": null,
   "metadata": {
    "collapsed": false
   },
   "outputs": [],
   "source": [
    "\n",
    "def is_leap(year):\n",
    "    return year % 4 == 0 and (year % 100 == 0 and year % 400 == 0)\n",
    "   \n",
    "year = int(input())\n",
    "print(is_leap(year))"
   ]
  },
  {
   "cell_type": "markdown",
   "metadata": {},
   "source": [
    "### Print range of numbers from the given number\n",
    "hackerrank"
   ]
  },
  {
   "cell_type": "code",
   "execution_count": null,
   "metadata": {
    "collapsed": false
   },
   "outputs": [],
   "source": [
    "n = int(input())\n",
    "for i in range(1,n+1):\n",
    "    print(i, end=\"\")"
   ]
  },
  {
   "cell_type": "markdown",
   "metadata": {},
   "source": [
    "### numpy exercise\n",
    "hackerrank"
   ]
  },
  {
   "cell_type": "code",
   "execution_count": null,
   "metadata": {
    "collapsed": false
   },
   "outputs": [],
   "source": [
    "import numpy\n",
    "my_array = numpy.array([ [1, 2], [3, 4] ])\n",
    "print(my_array)\n",
    "\n",
    "print( numpy.sum(my_array, axis = 0) )        #Output : [4 6]\n",
    "print( numpy.sum(my_array, axis = 1)  )       #Output : [3 7]\n",
    "print( numpy.sum(my_array, axis = None))      #Output : 10\n",
    "print( numpy.sum(my_array)              )     #Output : 10"
   ]
  },
  {
   "cell_type": "code",
   "execution_count": null,
   "metadata": {
    "collapsed": false
   },
   "outputs": [],
   "source": [
    "import numpy as np\n",
    "print(np.prod(np.sum(np.array([input().split() for _ in range(int(input().split()[0])) ],int),axis=0)))\n",
    "print('345fgty7 re gt 67 98'.split())"
   ]
  },
  {
   "cell_type": "markdown",
   "metadata": {},
   "source": [
    "### Lists \n",
    "hackerrank\n",
    "\n",
    "Consider a list (list = []). You can perform the following commands:\n",
    "\n",
    "insert i e: Insert integer  at position .\n",
    "print: Print the list.\n",
    "remove e: Delete the first occurrence of integer .\n",
    "append e: Insert integer  at the end of the list.\n",
    "sort: Sort the list.\n",
    "pop: Pop the last element from the list.\n",
    "reverse: Reverse the list.\n",
    "\n",
    "Initialize your list and read in the value of n followed by n lines of commands where each command will be of the 7 types listed above. Iterate through each command in order and perform the corresponding operation on your list.\n",
    "\n",
    "Input Format\n",
    "\n",
    "The first line contains an integer, , denoting the number of commands. \n",
    "Each line  of the  subsequent lines contains one of the commands described above.\n",
    "\n",
    "Constraints\n",
    "\n",
    "The elements added to the list must be integers.\n",
    "Output Format\n",
    "\n",
    "For each command of type print, print the list on a new line.\n",
    "\n",
    "Sample Input\n",
    "\n",
    "12\n",
    "\n",
    "insert 0 5\n",
    "\n",
    "insert 1 10\n",
    "\n",
    "insert 0 6\n",
    "\n",
    "print \n",
    "\n",
    "remove 6\n",
    "\n",
    "append 9\n",
    "\n",
    "append 1\n",
    "\n",
    "sort \n",
    "\n",
    "print\n",
    "\n",
    "pop\n",
    "\n",
    "reverse\n",
    "\n",
    "print\n",
    "\n",
    "Sample Output\n",
    "\n",
    "[6, 5, 10]\n",
    "\n",
    "[1, 5, 9, 10]\n",
    "\n",
    "[9, 5, 1]"
   ]
  },
  {
   "cell_type": "code",
   "execution_count": null,
   "metadata": {
    "collapsed": false
   },
   "outputs": [],
   "source": [
    "if __name__ == '__main__':\n",
    "    N = int(input())\n",
    "    lst = []\n",
    "    for i in range(N):\n",
    "        inp = input()\n",
    "        command = inp.split()[0]\n",
    "        if command == 'print':\n",
    "            print(lst)\n",
    "        elif command  == 'sort':\n",
    "            lst.sort()\n",
    "        elif command == 'pop':\n",
    "            lst.pop()\n",
    "        elif command == 'reverse':\n",
    "            lst.reverse()\n",
    "        if command == 'insert':\n",
    "            command_par1 = int(inp.split()[1])\n",
    "            command_par2 = int(inp.split()[2])\n",
    "            lst.insert(command_par1, command_par2)\n",
    "        elif command == 'remove':\n",
    "            command_par1 = int(inp.split()[1])\n",
    "            lst.remove(command_par1)\n",
    "        elif command == 'append':\n",
    "            command_par1 = int(inp.split()[1])\n",
    "            lst.append(command_par1)"
   ]
  },
  {
   "cell_type": "markdown",
   "metadata": {},
   "source": [
    "### Tuples - hackerrank\n",
    "Given an integer,n , and n space-separated integers as input, create a tuple,t , of those  integers. Then compute and print the result of hash().\n",
    "\n",
    "Note: hash() is one of the functions in the __builtins__ module, so it need not be imported."
   ]
  },
  {
   "cell_type": "code",
   "execution_count": null,
   "metadata": {
    "collapsed": false
   },
   "outputs": [],
   "source": [
    "n = int(input())\n",
    "integer_list = map(int, input().split())\n",
    "t = tuple(integer_list)\n",
    "print(hash(t))"
   ]
  },
  {
   "cell_type": "markdown",
   "metadata": {},
   "source": [
    "### List comprehensions - hackerrank\n",
    "Let's learn about list comprehensions! You are given three integers  and  representing the dimensions of a cuboid along with an integer . You have to print a list of all possible coordinates given by  on a 3D grid where the sum of  is not equal to . Here, \n",
    "\n",
    "Input Format\n",
    "\n",
    "Four integers  and  each on four separate lines, respectively.\n",
    "\n",
    "Constraints\n",
    "\n",
    "Print the list in lexicographic increasing order.\n",
    "\n",
    "Sample Input\n",
    "\n",
    "1\n",
    "1\n",
    "1\n",
    "2\n",
    "\n",
    "Sample Output\n",
    "\n",
    "[[0, 0, 0], [0, 0, 1], [0, 1, 0], [1, 0, 0], [1, 1, 1]] "
   ]
  },
  {
   "cell_type": "markdown",
   "metadata": {},
   "source": [
    "### Concept\n",
    "\n",
    "You have already used lists in previous hacks. List comprehensions are an elegant way to build a list without having to use different for loops to append values one by one. These examples might help.\n",
    "\n",
    "The simplest form of a list comprehension is: \n",
    "\n",
    "[ expression-involving-loop-variable for loop-variable in sequence ] \n",
    "\n",
    "This will step over every element in a sequence, successively setting the loop-variable equal to every element one at a time. It will then build up a list by evaluating the expression-involving-loop-variable for each one. This eliminates the need to use lambda forms and generally produces a much more readable code than using map() and a more compact code than using a for loop.\n",
    "\n",
    "> ListOfNumbers = [ x for x in range(10) ] # List of integers from 0 to 9\n",
    "> ListOfNumbers\n",
    "\n",
    ">[0, 1, 2, 3, 4, 5, 6, 7, 8, 9]\n",
    "\n",
    "List comprehensions can be nested where they take the following form: \n",
    "\n",
    ">[ expression-involving-loop-variables for outer-loop-variable in outer-sequence for inner-loop-variable in inner-sequence ] \n",
    "\n",
    "This is equivalent to writing: \n",
    "\n",
    ">results = []\n",
    "\n",
    ">for outer_loop_variable in outer_sequence:\n",
    ">    for inner_loop_variable in inner_sequence:\n",
    ">        results.append( expression_involving_loop_variables )\n",
    "\n",
    "The final form of list comprehension involves creating a list and filtering it similar to using the filter() method. The filtering form of list comprehension takes the following form: \n",
    "\n",
    ">[ expression-involving-loop-variable for loop-variable in sequence if boolean-expression-involving-loop-variable ] \n",
    "\n",
    "This form is similar to the simple form of list comprehension, but it evaluates boolean-expression-involving-loop-variable for every item. It also only keeps those members for which the boolean expression is True.\n",
    "\n",
    "> ListOfThreeMultiples = [x for x in range(10) if x % 3 == 0] # Multiples of 3 below 10\n",
    "> ListOfThreeMultiples\n",
    "\n",
    ">[0, 3, 6, 9]"
   ]
  },
  {
   "cell_type": "code",
   "execution_count": null,
   "metadata": {
    "collapsed": false
   },
   "outputs": [],
   "source": [
    "# compact list comprehensions for multiple layers of loops\n",
    "x = int(input())\n",
    "y = int(input())\n",
    "z = int(input())\n",
    "n = int(input())\n",
    "\n",
    "results = []\n",
    "# for i in range(x+1):\n",
    "#     for j in range (y+1):\n",
    "#         [results.append([i, j, k]) for k in range(z+1) if i+j+k != n]\n",
    "# print(results)\n",
    "\n",
    "# # the same as below\n",
    "\n",
    "[results.append([i,j,k]) for i in range(0,x+1) for j in range(0,y+1) for k in range(0,z+1) if i+j+k != n]\n",
    "print(results)\n"
   ]
  },
  {
   "cell_type": "code",
   "execution_count": null,
   "metadata": {
    "collapsed": false
   },
   "outputs": [],
   "source": [
    "ls"
   ]
  },
  {
   "cell_type": "markdown",
   "metadata": {
    "collapsed": true
   },
   "source": [
    "### Second biggest number - hackerrank"
   ]
  },
  {
   "cell_type": "code",
   "execution_count": null,
   "metadata": {
    "collapsed": false
   },
   "outputs": [],
   "source": [
    "# my version\n",
    "n = int(input())\n",
    "arr = set(map(int, input().split()))\n",
    "arr.remove(max(arr))\n",
    "print(max(list(arr)))"
   ]
  },
  {
   "cell_type": "code",
   "execution_count": null,
   "metadata": {
    "collapsed": true
   },
   "outputs": [],
   "source": [
    "# input\n",
    "# 5\n",
    "# 2 3 6 6 5"
   ]
  },
  {
   "cell_type": "code",
   "execution_count": null,
   "metadata": {
    "collapsed": false
   },
   "outputs": [],
   "source": [
    "# best version\n",
    "n = int(input()); arr = list(set(map(int, input().split()))); print(sorted(arr) [-2])"
   ]
  },
  {
   "cell_type": "markdown",
   "metadata": {},
   "source": [
    "### Nested Lists\n",
    "Given the names and grades for each student in a Physics class of N students, store them in a nested list and print the name(s) of any student(s) having the second lowest grade.\n",
    "\n",
    "Note: If there are multiple students with the same grade, order their names alphabetically and print each name on a new line.\n",
    "\n",
    "Input Format\n",
    "\n",
    "The first line contains an integer,N , the number of students. \n",
    "The  subsequent lines describe each student over 2N lines; the first line contains a student's name, and the second line contains their grade.\n",
    "\n",
    "Constraints\n",
    "\n",
    "There will always be one or more students having the second lowest grade.\n",
    "Output Format\n",
    "\n",
    "Print the name(s) of any student(s) having the second lowest grade in Physics; if there are multiple students, order their names alphabetically and print each one on a new line.\n",
    "\n",
    "Sample Input\n",
    "\n",
    ">5\n",
    "Harry\n",
    "37.21\n",
    "Berry\n",
    "37.21\n",
    "Tina\n",
    "37.2\n",
    "Akriti\n",
    "41\n",
    "Harsh\n",
    "39\n",
    "\n",
    "Sample Output\n",
    "\n",
    ">Berry\n",
    "\n",
    ">Harry\n",
    "\n",
    "Explanation\n",
    "\n",
    "There are  students in this class whose names and grades are assembled to build the following list:\n",
    "\n",
    ">students = [['Harry', 37.21], ['Berry', 37.21], ['Tina', 37.2], ['Akriti', 41], ['Harsh', 39]]\n",
    "\n",
    "The lowest grade of 37.2 belongs to Tina. The second lowest grade of 37.21 belongs to both Harry and Berry, so we order their names alphabetically and print each name on a new line."
   ]
  },
  {
   "cell_type": "code",
   "execution_count": 23,
   "metadata": {
    "collapsed": false
   },
   "outputs": [
    {
     "name": "stdout",
     "output_type": "stream",
     "text": [
      "5\n",
      "harry\n",
      "37.21\n",
      "berry\n",
      "37.21\n",
      "tina\n",
      "37.2\n",
      "arkiti\n",
      "41\n",
      "harsh\n",
      "39\n",
      "before if,students[_][1] = 37 and second_worst = 37\n",
      "after if,students[_][1] = 37 and second_worst = 37\n",
      "before if,students[_][1] = 37 and second_worst = 37\n",
      "after if,students[_][1] = 37 and second_worst = 37\n",
      "before if,students[_][1] = 37 and second_worst = 37\n",
      "before if,students[_][1] = 41 and second_worst = 37\n",
      "before if,students[_][1] = 39 and second_worst = 37\n",
      "berry\n",
      "harry\n",
      "[['harry', 37.21], ['berry', 37.21], ['tina', 37.2], ['arkiti', 41.0], ['harsh', 39.0]]\n",
      "37.21\n",
      "[['harry', 37.21], ['berry', 37.21], ['tina', 37.2], ['arkiti', 41.0], ['harsh', 39.0]]\n"
     ]
    }
   ],
   "source": [
    "# my version\n",
    "students, scores, names = [], [], []\n",
    "for _ in range(int(input())):\n",
    "    students.append([input(), float(input())])\n",
    "    scores.append(students[_][1])\n",
    "second_worst = sorted(list(set(scores)),reverse=True)[-2]\n",
    "for _ in range(0,len(students)):\n",
    "    if students[_][1] == second_worst:\n",
    "        output.append(students[_][0])\n",
    "print(\"\\n\".join(sorted(output)))\n",
    "\n",
    "    "
   ]
  },
  {
   "cell_type": "code",
   "execution_count": 48,
   "metadata": {
    "collapsed": false
   },
   "outputs": [
    {
     "name": "stdout",
     "output_type": "stream",
     "text": [
      "berry\n",
      "harry\n",
      "['berry', 'harry']\n"
     ]
    }
   ],
   "source": [
    "# best version\n",
    "# sample data ... [['harry', 37.21], ['tina', 37.2], ['arkiti', 41.0], ['berry', 37.21], ['harsh', 39.0]]\n",
    "marksheet = []\n",
    "for _ in range(0,int(input())):\n",
    "    marksheet.append([input(), float(input())])\n",
    "second_highest = sorted(list(set([marks for name, marks in marksheet])))[1]\n",
    "print('\\n'.join([a for a,b in sorted(marksheet) if b == second_highest]))\n",
    "print([a for a,b in sorted(marksheet) if b == second_highest])\n",
    "\n",
    "# another best\n",
    "list_students = []\n",
    "    for _ in range(int(input())):\n",
    "        list_students.append([input(),float(input())])\n",
    "scores = sorted(list(set( x[1] for x in list_students)))\n",
    "matches = sorted(list(x for x in list_students if x[1] == scores[1]))\n",
    "for item in matches:\n",
    "    print(item[0],sep=\"\\n\")    "
   ]
  },
  {
   "cell_type": "code",
   "execution_count": 29,
   "metadata": {
    "collapsed": false
   },
   "outputs": [
    {
     "data": {
      "text/plain": [
       "[['tina', 37.2],\n",
       " ['harry', 37.21],\n",
       " ['berry', 37.21],\n",
       " ['harsh', 39.0],\n",
       " ['arkiti', 41.0]]"
      ]
     },
     "execution_count": 29,
     "metadata": {},
     "output_type": "execute_result"
    }
   ],
   "source": [
    "#` very interesting trick - it takes a list of lists \"students\" whose individual elements are a list of two elements and\n",
    "# sort this list of lists based on a rule, which in this case is sort on the 2nd element of each inner list\n",
    "# the word item could be anything\n",
    "students.sort(key=lambda item: item[1])\n",
    "students"
   ]
  },
  {
   "cell_type": "code",
   "execution_count": 57,
   "metadata": {
    "collapsed": false
   },
   "outputs": [
    {
     "data": {
      "text/plain": [
       "[39.0]"
      ]
     },
     "execution_count": 57,
     "metadata": {},
     "output_type": "execute_result"
    }
   ],
   "source": [
    "lst = [['harry', 37.21], ['tina', 37.2], ['arkiti', 41.0], ['berry', 37.21], ['harsh', 39.0]]\n",
    "tina = [b for a,b in lst if a == 'harsh']\n",
    "tina"
   ]
  },
  {
   "cell_type": "markdown",
   "metadata": {},
   "source": [
    "### Finding the percentage in a dictionary - hackerrank\n",
    "You have a record of N students. Each record contains the student's name, and their percent marks in Maths, Physics and Chemistry. The marks can be floating values. The user enters some integer N followed by the names and marks for  students. You are required to save the record in a dictionary data type. The user then enters a student's name. Output the average percentage marks obtained by that student, correct to two decimal places.\n",
    "\n",
    "Input Format\n",
    "\n",
    "The first line contains the integer N , the number of students. The next N lines contains the name and marks obtained by that student separated by a space. The final line contains the name of a particular student previously listed."
   ]
  },
  {
   "cell_type": "code",
   "execution_count": 117,
   "metadata": {
    "collapsed": false
   },
   "outputs": [
    {
     "name": "stdout",
     "output_type": "stream",
     "text": [
      "3\n",
      "Arjun 70 98 63\n",
      "Krishna 67 68 69\n",
      "Malika 52 56 60 50 14\n",
      "Malika\n",
      "46.40\n"
     ]
    }
   ],
   "source": [
    "# my version\n",
    "n = int(input())\n",
    "student_marks = {}\n",
    "for _ in range(n):\n",
    "    name, *line = input().split()\n",
    "#     list(map(float, line)) the same as below but using map()\n",
    "    scores = [float(i) for i in line]\n",
    "    student_marks[name] = format(sum(scores) / len(scores), '.2f')\n",
    "# another formating option: \"{0:.2f}\".format(sum(scores) / len(scores))\n",
    "print(student_marks[input()])"
   ]
  },
  {
   "cell_type": "code",
   "execution_count": 118,
   "metadata": {
    "collapsed": false
   },
   "outputs": [
    {
     "data": {
      "text/plain": [
       "'example\\n3\\nArjun 70 98 63\\nKrishna 67 68 69\\nMalika 52 56 60 50 14\\nMalika\\n46.40\\n'"
      ]
     },
     "execution_count": 118,
     "metadata": {},
     "output_type": "execute_result"
    }
   ],
   "source": [
    "\"\"\"example\n",
    "3\n",
    "Arjun 70 98 63\n",
    "Krishna 67 68 69\n",
    "Malika 52 56 60 50 14\n",
    "Malika\n",
    "46.40\n",
    "\"\"\""
   ]
  },
  {
   "cell_type": "code",
   "execution_count": null,
   "metadata": {
    "collapsed": true
   },
   "outputs": [],
   "source": []
  },
  {
   "cell_type": "code",
   "execution_count": null,
   "metadata": {
    "collapsed": true
   },
   "outputs": [],
   "source": []
  },
  {
   "cell_type": "code",
   "execution_count": null,
   "metadata": {
    "collapsed": true
   },
   "outputs": [],
   "source": []
  },
  {
   "cell_type": "code",
   "execution_count": null,
   "metadata": {
    "collapsed": true
   },
   "outputs": [],
   "source": []
  }
 ],
 "metadata": {
  "kernelspec": {
   "display_name": "Python [default]",
   "language": "python",
   "name": "python3"
  },
  "language_info": {
   "codemirror_mode": {
    "name": "ipython",
    "version": 3
   },
   "file_extension": ".py",
   "mimetype": "text/x-python",
   "name": "python",
   "nbconvert_exporter": "python",
   "pygments_lexer": "ipython3",
   "version": "3.4.5"
  }
 },
 "nbformat": 4,
 "nbformat_minor": 2
}
